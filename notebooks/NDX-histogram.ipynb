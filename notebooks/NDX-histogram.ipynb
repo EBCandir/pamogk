{
 "cells": [
  {
   "cell_type": "code",
   "execution_count": 8,
   "metadata": {},
   "outputs": [
    {
     "data": {
      "text/html": [
       "        <script type=\"text/javascript\">\n",
       "        window.PlotlyConfig = {MathJaxConfig: 'local'};\n",
       "        if (window.MathJax) {MathJax.Hub.Config({SVG: {font: \"STIX-Web\"}});}\n",
       "        if (typeof require !== 'undefined') {\n",
       "        require.undef(\"plotly\");\n",
       "        requirejs.config({\n",
       "            paths: {\n",
       "                'plotly': ['https://cdn.plot.ly/plotly-latest.min']\n",
       "            }\n",
       "        });\n",
       "        require(['plotly'], function(Plotly) {\n",
       "            window._Plotly = Plotly;\n",
       "        });\n",
       "        }\n",
       "        </script>\n",
       "        "
      ]
     },
     "metadata": {},
     "output_type": "display_data"
    },
    {
     "name": "stdout",
     "output_type": "stream",
     "text": [
      "Loaded\n"
     ]
    }
   ],
   "source": [
    "import sys\n",
    "sys.path.append('..')\n",
    "import config\n",
    "sys.path.append(config.root_dir)\n",
    "import requests\n",
    "import os\n",
    "import math\n",
    "import networkx as nx\n",
    "import numpy as np\n",
    "import argparse\n",
    "from pathway_reader import cx_pathway_reader, network_plotter\n",
    "from data_processor import node2vec_processor\n",
    "from synthetic_experiments import cell_survival_group_kegg\n",
    "from sklearn.manifold import TSNE\n",
    "from sklearn.svm import SVC\n",
    "from gene_mapper import uniprot_mapper\n",
    "import plotly.offline as py\n",
    "import plotly.graph_objs as go\n",
    "\n",
    "py.init_notebook_mode(connected=True)\n",
    "\n",
    "print('Loaded')"
   ]
  },
  {
   "cell_type": "code",
   "execution_count": 9,
   "metadata": {},
   "outputs": [
    {
     "name": "stdout",
     "output_type": "stream",
     "text": [
      "2019-06-02T02:35:20.987 Started: read_pathways\n",
      "2019-06-02T02:35:20.994 Pathway data_dir=/cta/users/fmakdemir/smspk-py/data/cx\n",
      "2019-06-02T02:35:22.380 Processing pathway 165/165\tPathway with pathway_id=eff796f3-6195-11e5-8ac5-06603eb7f303 retrieved from local data dirPathway with pathway_id=2ddeac89-6194-11e5-8ac5-06603eb7f303 retrieved from local data dirPathway with pathway_id=4dfe97ca-6195-11e5-8ac5-06603eb7f303 retrieved from local data dirPathway with pathway_id=9433a84d-6196-11e5-8ac5-06603eb7f303 retrieved from local data dir\n",
      "2019-06-02T02:35:22.381 Finished: read_pathways elapsed: 1.39s\n"
     ]
    }
   ],
   "source": [
    "all_pathways = cx_pathway_reader.read_pathways()\n",
    "pw_sizes = []\n",
    "for pw_id, pw in all_pathways.items():\n",
    "    pw_sizes.append(len(pw.nodes))"
   ]
  },
  {
   "cell_type": "code",
   "execution_count": 10,
   "metadata": {},
   "outputs": [
    {
     "data": {
      "application/vnd.plotly.v1+json": {
       "config": {
        "linkText": "Export to plot.ly",
        "plotlyServerURL": "https://plot.ly",
        "responsive": true,
        "showLink": false
       },
       "data": [
        {
         "type": "histogram",
         "uid": "8e1e52f1-f8a0-430b-be57-1f2e9c2a8505",
         "x": [
          45,
          77,
          5,
          41,
          32,
          30,
          45,
          18,
          34,
          42,
          30,
          35,
          52,
          56,
          5,
          6,
          85,
          46,
          44,
          142,
          68,
          45,
          51,
          41,
          55,
          60,
          41,
          12,
          42,
          25,
          69,
          32,
          59,
          70,
          22,
          30,
          15,
          32,
          27,
          41,
          79,
          40,
          28,
          36,
          15,
          24,
          60,
          24,
          15,
          20,
          56,
          50,
          27,
          43,
          48,
          58,
          30,
          80,
          14,
          6,
          46,
          53,
          139,
          37,
          60,
          75,
          12,
          80,
          11,
          16,
          43,
          79,
          27,
          42,
          29,
          38,
          51,
          2,
          36,
          35,
          45,
          37,
          41,
          30,
          82,
          29,
          83,
          3,
          60,
          18,
          21,
          26,
          33,
          73,
          36,
          66,
          19,
          54,
          25,
          26,
          31,
          56,
          19,
          17,
          43,
          44,
          36,
          68,
          115,
          36,
          78,
          83,
          14,
          38,
          81,
          40,
          71,
          55,
          70,
          48,
          44,
          38,
          38,
          80,
          49,
          38,
          50,
          50,
          45,
          58,
          56,
          55,
          68,
          16,
          34,
          100,
          48,
          28,
          10,
          29,
          34,
          63,
          45,
          49,
          89,
          76,
          9,
          26,
          52,
          69,
          69,
          21,
          35,
          37,
          39,
          44,
          28,
          57,
          43,
          31,
          73,
          87,
          52,
          36,
          48
         ]
        }
       ],
       "layout": {
        "xaxis": {
         "title": {
          "text": "Yolak Boyutu"
         },
         "zeroline": false
        },
        "yaxis": {
         "title": {
          "text": "Yolak Sayısı"
         },
         "zeroline": false
        }
       }
      },
      "text/html": [
       "<div>\n",
       "        \n",
       "        \n",
       "            <div id=\"e36596da-ae4a-4240-bc4e-02812ef0c05e\" class=\"plotly-graph-div\" style=\"height:525px; width:100%;\"></div>\n",
       "            <script type=\"text/javascript\">\n",
       "                require([\"plotly\"], function(Plotly) {\n",
       "                    window.PLOTLYENV=window.PLOTLYENV || {};\n",
       "                    window.PLOTLYENV.BASE_URL='https://plot.ly';\n",
       "                    \n",
       "                if (document.getElementById(\"e36596da-ae4a-4240-bc4e-02812ef0c05e\")) {\n",
       "                    Plotly.newPlot(\n",
       "                        'e36596da-ae4a-4240-bc4e-02812ef0c05e',\n",
       "                        [{\"type\": \"histogram\", \"uid\": \"5d230a4f-022e-4b25-9b3f-2f9642e4300b\", \"x\": [45, 77, 5, 41, 32, 30, 45, 18, 34, 42, 30, 35, 52, 56, 5, 6, 85, 46, 44, 142, 68, 45, 51, 41, 55, 60, 41, 12, 42, 25, 69, 32, 59, 70, 22, 30, 15, 32, 27, 41, 79, 40, 28, 36, 15, 24, 60, 24, 15, 20, 56, 50, 27, 43, 48, 58, 30, 80, 14, 6, 46, 53, 139, 37, 60, 75, 12, 80, 11, 16, 43, 79, 27, 42, 29, 38, 51, 2, 36, 35, 45, 37, 41, 30, 82, 29, 83, 3, 60, 18, 21, 26, 33, 73, 36, 66, 19, 54, 25, 26, 31, 56, 19, 17, 43, 44, 36, 68, 115, 36, 78, 83, 14, 38, 81, 40, 71, 55, 70, 48, 44, 38, 38, 80, 49, 38, 50, 50, 45, 58, 56, 55, 68, 16, 34, 100, 48, 28, 10, 29, 34, 63, 45, 49, 89, 76, 9, 26, 52, 69, 69, 21, 35, 37, 39, 44, 28, 57, 43, 31, 73, 87, 52, 36, 48]}],\n",
       "                        {\"xaxis\": {\"title\": {\"text\": \"Yolak Boyutu\"}, \"zeroline\": false}, \"yaxis\": {\"title\": {\"text\": \"Yolak Say\\u0131s\\u0131\"}, \"zeroline\": false}},\n",
       "                        {\"linkText\": \"Export to plot.ly\", \"showLink\": false, \"plotlyServerURL\": \"https://plot.ly\", \"responsive\": true}\n",
       "                    ).then(function(){\n",
       "                            \n",
       "var gd = document.getElementById('e36596da-ae4a-4240-bc4e-02812ef0c05e');\n",
       "var x = new MutationObserver(function (mutations, observer) {{\n",
       "        var display = window.getComputedStyle(gd).display;\n",
       "        if (!display || display === 'none') {{\n",
       "            console.log([gd, 'removed!']);\n",
       "            Plotly.purge(gd);\n",
       "            observer.disconnect();\n",
       "        }}\n",
       "}});\n",
       "\n",
       "// Listen for the removal of the full notebook cells\n",
       "var notebookContainer = gd.closest('#notebook-container');\n",
       "if (notebookContainer) {{\n",
       "    x.observe(notebookContainer, {childList: true});\n",
       "}}\n",
       "\n",
       "// Listen for the clearing of the current output cell\n",
       "var outputEl = gd.closest('.output');\n",
       "if (outputEl) {{\n",
       "    x.observe(outputEl, {childList: true});\n",
       "}}\n",
       "\n",
       "                        })\n",
       "                };\n",
       "                });\n",
       "            </script>\n",
       "        </div>"
      ]
     },
     "metadata": {},
     "output_type": "display_data"
    }
   ],
   "source": [
    "data = [go.Histogram(x=pw_sizes)]\n",
    "\n",
    "layout = dict(yaxis = dict(title='Yolak Sayısı', zeroline = False),\n",
    "              xaxis = dict(title='Yolak Boyutu', zeroline = False)\n",
    "             )\n",
    "\n",
    "fig = dict(data=data, layout=layout)\n",
    "\n",
    "py.iplot(fig, filename='Pathway Node Size Histogram')\n"
   ]
  },
  {
   "cell_type": "code",
   "execution_count": 8,
   "metadata": {},
   "outputs": [
    {
     "name": "stdout",
     "output_type": "stream",
     "text": [
      "Min: 2\n",
      "Max: 142\n",
      "Median: 42.0\n",
      "Mean: 44.64848484848485\n",
      "Average: 44.64848484848485\n",
      "Standard dev.: 23.952176104240678\n",
      "Variance: 573.7067401285582\n"
     ]
    }
   ],
   "source": [
    "import numpy as np\n",
    "print('Min:', np.min(pw_sizes))\n",
    "print('Max:', np.max(pw_sizes))\n",
    "print('Median:', np.median(pw_sizes))\n",
    "print('Mean:', np.mean(pw_sizes))\n",
    "print('Average:', np.average(pw_sizes))\n",
    "print('Standard dev.:', np.std(pw_sizes))\n",
    "print('Variance:', np.var(pw_sizes))\n"
   ]
  }
 ],
 "metadata": {
  "kernelspec": {
   "display_name": "Python 3",
   "language": "python",
   "name": "python3"
  },
  "language_info": {
   "codemirror_mode": {
    "name": "ipython",
    "version": 3
   },
   "file_extension": ".py",
   "mimetype": "text/x-python",
   "name": "python",
   "nbconvert_exporter": "python",
   "pygments_lexer": "ipython3",
   "version": "3.5.2"
  }
 },
 "nbformat": 4,
 "nbformat_minor": 2
}
