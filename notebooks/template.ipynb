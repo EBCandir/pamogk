{
 "cells": [
  {
   "cell_type": "markdown",
   "metadata": {},
   "source": [
    "# Experiment Template\n",
    "## Starting a new experiment\n",
    "* Activate virtualenv by `workon pagomk` or create one with `mkvirtualenv pagomk`\n",
    "* Run `jupyter notebook notebooks/template.ipynb`\n",
    "* Inside the notebook click `Cell > Run All`  (only the first time)\n",
    "* After it finishes click `File > Make a Copy...`\n",
    "* Restart jupyter server (only the first time)\n",
    "* You can remove anything except for first 2 initialization cells, they do magic stuff such as installing requirements or setting the project root for imports\n",
    "## Importing/Using project libraries\n",
    "First two cells do most of the job so you should be able to import them easily e.g:\n",
    "```python\n",
    "import config\n",
    "print('Data dir:', config.data_dir)\n",
    "```\n",
    "\n",
    "If you want to reload changed modules you can do\n",
    "```python\n",
    "%load_ext autoreload\n",
    "%autoreload 2\n",
    "```\n",
    "See [here](https://ipython.org/ipython-doc/3/config/extensions/autoreload.html) for more information on reloading modules.\n",
    "\n",
    "## Extensions/Widgets\n",
    "Jupyter has nice extensions/widgets to make it easier to work with it. Again first 2 cells should enable some useful\n",
    "extensions for you. See [here](https://jupyter-contrib-nbextensions.readthedocs.io/en/latest/) for more information on them."
   ]
  },
  {
   "cell_type": "code",
   "execution_count": 1,
   "metadata": {
    "ExecuteTime": {
     "end_time": "2019-11-01T06:18:03.496868Z",
     "start_time": "2019-11-01T06:17:58.592116Z"
    },
    "init_cell": true
   },
   "outputs": [
    {
     "name": "stdout",
     "output_type": "stream",
     "text": [
      "\u001b[33mWARNING: You are using pip version 19.2.3, however version 19.3.1 is available.\n",
      "You should consider upgrading via the 'pip install --upgrade pip' command.\u001b[0m\n",
      "Enabling: jupyter_nbextensions_configurator\n",
      "- Writing config: /Users/fma/.jupyter\n",
      "    - Validating...\n",
      "      jupyter_nbextensions_configurator 0.4.1 \u001b[32mOK\u001b[0m\n",
      "Enabling notebook nbextension nbextensions_configurator/config_menu/main...\n",
      "Enabling tree nbextension nbextensions_configurator/tree_tab/main...\n",
      "Enabling notebook extension jupyter-js-widgets/extension...\n",
      "      - Validating: \u001b[32mOK\u001b[0m\n",
      "\u001b[33mWARNING: You are using pip version 19.2.3, however version 19.3.1 is available.\n",
      "You should consider upgrading via the 'pip install --upgrade pip' command.\u001b[0m\n",
      "Initialization completed!\n"
     ]
    }
   ],
   "source": [
    "# %Template%\n",
    "# detect virtual env\n",
    "import sys\n",
    "import os\n",
    "# install needed libs and extensions manually\n",
    "user_param = '--user'\n",
    "if hasattr(sys, 'real_prefix') or (hasattr(sys, 'base_prefix') and sys.base_prefix != sys.prefix):\n",
    "    user_param = ''\n",
    "!pip install -q $user_param jupyter_contrib_nbextensions ipywidgets yapf rootpath\n",
    "!jupyter contrib nbextension install --InstallContribNbextensionsApp.log_level=ERROR --user\n",
    "!jupyter nbextension enable --py widgetsnbextension\n",
    "# append project root to python path\n",
    "import rootpath\n",
    "_, ROOT_PATH = rootpath.append()\n",
    "# change current directory to root\n",
    "os.chdir(ROOT_PATH)\n",
    "!pip install -q -r requirements.txt\n",
    "print('Initialization completed!')"
   ]
  },
  {
   "cell_type": "code",
   "execution_count": 2,
   "metadata": {
    "ExecuteTime": {
     "end_time": "2019-11-01T06:18:09.885728Z",
     "start_time": "2019-11-01T06:18:03.501113Z"
    },
    "init_cell": true
   },
   "outputs": [
    {
     "name": "stdout",
     "output_type": "stream",
     "text": [
      "Enabling notebook extension contrib_nbextensions_help_item/main...\n",
      "      - Validating: \u001b[32mOK\u001b[0m\n",
      "Enabling notebook extension scroll_down/main...\n",
      "      - Validating: \u001b[32mOK\u001b[0m\n",
      "Enabling notebook extension code_prettify/code_prettify...\n",
      "      - Validating: \u001b[32mOK\u001b[0m\n",
      "Enabling notebook extension splitcell/splitcell...\n",
      "      - Validating: \u001b[32mOK\u001b[0m\n",
      "Enabling notebook extension execute_time/ExecuteTime...\n",
      "      - Validating: \u001b[32mOK\u001b[0m\n",
      "Enabling notebook extension gist_it/main...\n",
      "      - Validating: \u001b[32mOK\u001b[0m\n",
      "Enabling notebook extension python-markdown/main...\n",
      "      - Validating: \u001b[32mOK\u001b[0m\n",
      "Enabling notebook extension init_cell/main...\n",
      "      - Validating: \u001b[32mOK\u001b[0m\n",
      "Enabling notebook extension hinterland/hinterland...\n",
      "      - Validating: \u001b[32mOK\u001b[0m\n",
      "Enabling notebook extension snippets/main...\n",
      "      - Validating: \u001b[32mOK\u001b[0m\n",
      "Enabling notebook extension toc2/main...\n",
      "      - Validating: \u001b[32mOK\u001b[0m\n",
      "Enabling notebook extension varInspector/main...\n",
      "      - Validating: \u001b[32mOK\u001b[0m\n",
      "Enabling notebook extension jupyter-js-widgets/extension...\n",
      "      - Validating: \u001b[32mOK\u001b[0m\n",
      "Enabling notebook extension move_selected_cells/main...\n",
      "      - Validating: \u001b[32mOK\u001b[0m\n",
      "Enabling notebook extension snippets_menu/main...\n",
      "      - Validating: \u001b[32mOK\u001b[0m\n",
      "Enabling edit extension codefolding/edit...\n",
      "      - Validating: \u001b[32mOK\u001b[0m\n",
      "Enabling tree extension nbextensions_configurator/tree_tab/main...\n",
      "      - Validating: problems found:\n",
      "        - require? \u001b[31m X\u001b[0m nbextensions_configurator/tree_tab/main\n"
     ]
    }
   ],
   "source": [
    "extensions = {\n",
    "    'notebook': ['contrib_nbextensions_help_item/main', 'scroll_down/main', 'code_prettify/code_prettify', 'splitcell/splitcell', 'execute_time/ExecuteTime', 'gist_it/main', 'python-markdown/main', 'init_cell/main', 'hinterland/hinterland', 'snippets/main', 'toc2/main', 'varInspector/main', 'jupyter-js-widgets/extension', 'move_selected_cells/main', 'snippets_menu/main'],\n",
    "    'edit': ['codefolding/edit'],\n",
    "    'tree': ['nbextensions_configurator/tree_tab/main'],\n",
    "}\n",
    "for sec, exts in extensions.items():\n",
    "    for ext in exts:\n",
    "        !jupyter nbextension enable $ext --section=$sec --user  --InstallContribNbextensionsApp.log_level=ERROR"
   ]
  },
  {
   "cell_type": "code",
   "execution_count": null,
   "metadata": {
    "ExecuteTime": {
     "end_time": "2019-06-06T23:49:19.467166Z",
     "start_time": "2019-06-06T23:49:19.404198Z"
    }
   },
   "outputs": [],
   "source": [
    "import config\n",
    "print('Python path sanity check:', config.data_dir)"
   ]
  },
  {
   "cell_type": "code",
   "execution_count": null,
   "metadata": {
    "ExecuteTime": {
     "end_time": "2019-08-26T12:44:02.080008Z",
     "start_time": "2019-08-26T12:44:01.587742Z"
    }
   },
   "outputs": [],
   "source": [
    "# example plotly plot\n",
    "import plotly.express as px\n",
    "import numpy as np\n",
    "import pandas as pd\n",
    "\n",
    "data = pd.DataFrame(np.random.randn(100, 2), columns=list('xy'))\n",
    "px.scatter(data, x='x', y='y', title='Random Scatter Plot Example').show()"
   ]
  },
  {
   "cell_type": "code",
   "execution_count": null,
   "metadata": {
    "ExecuteTime": {
     "end_time": "2019-08-26T12:52:23.603960Z",
     "start_time": "2019-08-26T12:52:23.222875Z"
    }
   },
   "outputs": [],
   "source": [
    "data['z'] = data['x'] - data['y']\n",
    "px.scatter(data, x='x', y='y', color='z', title='Random Scatter Plot Example with Color').show()"
   ]
  },
  {
   "cell_type": "markdown",
   "metadata": {
    "cell_style": "center"
   },
   "source": [
    "You can check for some useful tips and tricks at (add more links as you see fit):\n",
    "* [this medium post](https://towardsdatascience.com/bringing-the-best-out-of-jupyter-notebooks-for-data-science-f0871519ca29)"
   ]
  }
 ],
 "metadata": {
  "celltoolbar": "Initialization Cell",
  "kernelspec": {
   "display_name": "Python 3",
   "language": "python",
   "name": "python3"
  },
  "language_info": {
   "codemirror_mode": {
    "name": "ipython",
    "version": 3
   },
   "file_extension": ".py",
   "mimetype": "text/x-python",
   "name": "python",
   "nbconvert_exporter": "python",
   "pygments_lexer": "ipython3",
   "version": "3.6.5"
  },
  "toc": {
   "base_numbering": 1,
   "nav_menu": {},
   "number_sections": true,
   "sideBar": true,
   "skip_h1_title": false,
   "title_cell": "Table of Contents",
   "title_sidebar": "Contents",
   "toc_cell": false,
   "toc_position": {},
   "toc_section_display": true,
   "toc_window_display": false
  },
  "varInspector": {
   "cols": {
    "lenName": 16,
    "lenType": 16,
    "lenVar": 40
   },
   "kernels_config": {
    "python": {
     "delete_cmd_postfix": "",
     "delete_cmd_prefix": "del ",
     "library": "var_list.py",
     "varRefreshCmd": "print(var_dic_list())"
    },
    "r": {
     "delete_cmd_postfix": ") ",
     "delete_cmd_prefix": "rm(",
     "library": "var_list.r",
     "varRefreshCmd": "cat(var_dic_list()) "
    }
   },
   "types_to_exclude": [
    "module",
    "function",
    "builtin_function_or_method",
    "instance",
    "_Feature"
   ],
   "window_display": false
  }
 },
 "nbformat": 4,
 "nbformat_minor": 2
}
