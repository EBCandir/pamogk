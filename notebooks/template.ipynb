{
 "cells": [
  {
   "cell_type": "markdown",
   "metadata": {},
   "source": [
    "# Experiment Template\n",
    "## Starting a new experiment\n",
    "* Activate virtualenv by `workon smspk-py` or create one with `mkvirtualenv smspk-py`\n",
    "* Run `jupyter notebook notebooks/template.ipynb`\n",
    "* Inside the notebook click `Cell > Run All`  (only the first time)\n",
    "* After it finishes click `File > Make a Copy...`\n",
    "* Restart jupyter server (only the first time)\n",
    "* You can remove anything except for first 2 initialization cells, they do magic stuff such as installing requirements or setting the project root for imports\n",
    "## Importing/Using project libraries\n",
    "First two cells do most of the job so you should be able to import them easily e.g:\n",
    "```python\n",
    "import config\n",
    "print('Data dir:', config.data_dir)\n",
    "```\n",
    "\n",
    "If you want to reload changed modules you can do\n",
    "```python\n",
    "%load_ext autoreload\n",
    "%autoreload 2\n",
    "```\n",
    "See [here](https://ipython.org/ipython-doc/3/config/extensions/autoreload.html) for more information on reloading modules.\n",
    "\n",
    "## Extensions/Widgets\n",
    "Jupyter has nice extensions/widgets to make it easier to work with it. Again first 2 cells should enable some useful\n",
    "extensions for you. See [here](https://jupyter-contrib-nbextensions.readthedocs.io/en/latest/) for more information on them."
   ]
  },
  {
   "cell_type": "code",
   "execution_count": 1,
   "metadata": {
    "ExecuteTime": {
     "end_time": "2019-08-26T12:27:25.406689Z",
     "start_time": "2019-08-26T12:27:20.673597Z"
    },
    "init_cell": true
   },
   "outputs": [
    {
     "name": "stdout",
     "output_type": "stream",
     "text": [
      "Enabling: jupyter_nbextensions_configurator\n",
      "- Writing config: /cta/users/fmakdemir/.jupyter\n",
      "    - Validating...\n",
      "      jupyter_nbextensions_configurator 0.4.1 \u001b[32mOK\u001b[0m\n",
      "Enabling notebook nbextension nbextensions_configurator/config_menu/main...\n",
      "Enabling tree nbextension nbextensions_configurator/tree_tab/main...\n",
      "Enabling notebook extension jupyter-js-widgets/extension...\n",
      "      - Validating: \u001b[32mOK\u001b[0m\n",
      "Initialization completed!\n"
     ]
    }
   ],
   "source": [
    "# %Template%\n",
    "# detect virtual env\n",
    "import sys\n",
    "import os\n",
    "# install needed libs and extensions manually\n",
    "user_param = '--user'\n",
    "if hasattr(sys, 'real_prefix') or (hasattr(sys, 'base_prefix') and sys.base_prefix != sys.prefix):\n",
    "    user_param = ''\n",
    "!pip install -q $user_param jupyter_contrib_nbextensions ipywidgets yapf rootpath\n",
    "!jupyter contrib nbextension install --InstallContribNbextensionsApp.log_level=ERROR --user\n",
    "!jupyter nbextension enable --py widgetsnbextension\n",
    "# append project root to python path\n",
    "import rootpath\n",
    "_, ROOT_PATH = rootpath.append()\n",
    "# change current directory to root\n",
    "os.chdir(ROOT_PATH)\n",
    "!pip install -q -r requirements.txt\n",
    "print('Initialization completed!')"
   ]
  },
  {
   "cell_type": "code",
   "execution_count": 2,
   "metadata": {
    "ExecuteTime": {
     "end_time": "2019-08-26T12:27:31.453863Z",
     "start_time": "2019-08-26T12:27:25.410609Z"
    },
    "init_cell": true
   },
   "outputs": [
    {
     "name": "stdout",
     "output_type": "stream",
     "text": [
      "Enabling edit extension codefolding/edit...\n",
      "      - Validating: \u001b[32mOK\u001b[0m\n",
      "Enabling tree extension nbextensions_configurator/tree_tab/main...\n",
      "      - Validating: problems found:\n",
      "        - require? \u001b[31m X\u001b[0m nbextensions_configurator/tree_tab/main\n",
      "Enabling notebook extension contrib_nbextensions_help_item/main...\n",
      "      - Validating: \u001b[32mOK\u001b[0m\n",
      "Enabling notebook extension scroll_down/main...\n",
      "      - Validating: \u001b[32mOK\u001b[0m\n",
      "Enabling notebook extension code_prettify/code_prettify...\n",
      "      - Validating: \u001b[32mOK\u001b[0m\n",
      "Enabling notebook extension splitcell/splitcell...\n",
      "      - Validating: \u001b[32mOK\u001b[0m\n",
      "Enabling notebook extension execute_time/ExecuteTime...\n",
      "      - Validating: \u001b[32mOK\u001b[0m\n",
      "Enabling notebook extension gist_it/main...\n",
      "      - Validating: \u001b[32mOK\u001b[0m\n",
      "Enabling notebook extension python-markdown/main...\n",
      "      - Validating: \u001b[32mOK\u001b[0m\n",
      "Enabling notebook extension init_cell/main...\n",
      "      - Validating: \u001b[32mOK\u001b[0m\n",
      "Enabling notebook extension hinterland/hinterland...\n",
      "      - Validating: \u001b[32mOK\u001b[0m\n",
      "Enabling notebook extension snippets/main...\n",
      "      - Validating: \u001b[32mOK\u001b[0m\n",
      "Enabling notebook extension toc2/main...\n",
      "      - Validating: \u001b[32mOK\u001b[0m\n",
      "Enabling notebook extension varInspector/main...\n",
      "      - Validating: \u001b[32mOK\u001b[0m\n",
      "Enabling notebook extension jupyter-js-widgets/extension...\n",
      "      - Validating: \u001b[32mOK\u001b[0m\n",
      "Enabling notebook extension move_selected_cells/main...\n",
      "      - Validating: \u001b[32mOK\u001b[0m\n",
      "Enabling notebook extension snippets_menu/main...\n",
      "      - Validating: \u001b[32mOK\u001b[0m\n"
     ]
    }
   ],
   "source": [
    "extensions = {\n",
    "    'notebook': ['contrib_nbextensions_help_item/main', 'scroll_down/main', 'code_prettify/code_prettify', 'splitcell/splitcell', 'execute_time/ExecuteTime', 'gist_it/main', 'python-markdown/main', 'init_cell/main', 'hinterland/hinterland', 'snippets/main', 'toc2/main', 'varInspector/main', 'jupyter-js-widgets/extension', 'move_selected_cells/main', 'snippets_menu/main'],\n",
    "    'edit': ['codefolding/edit'],\n",
    "    'tree': ['nbextensions_configurator/tree_tab/main'],\n",
    "}\n",
    "for sec, exts in extensions.items():\n",
    "    for ext in exts:\n",
    "        !jupyter nbextension enable $ext --section=$sec --user  --InstallContribNbextensionsApp.log_level=ERROR"
   ]
  },
  {
   "cell_type": "code",
   "execution_count": 5,
   "metadata": {
    "ExecuteTime": {
     "end_time": "2019-06-06T23:49:19.467166Z",
     "start_time": "2019-06-06T23:49:19.404198Z"
    }
   },
   "outputs": [
    {
     "name": "stdout",
     "output_type": "stream",
     "text": [
      "Python path sanity check: /Users/fma/dev/bilkent/research/smspk-py/data\n"
     ]
    }
   ],
   "source": [
    "import config\n",
    "print('Python path sanity check:', config.data_dir)"
   ]
  },
  {
   "cell_type": "code",
   "execution_count": 12,
   "metadata": {
    "ExecuteTime": {
     "end_time": "2019-08-26T12:44:02.080008Z",
     "start_time": "2019-08-26T12:44:01.587742Z"
    }
   },
   "outputs": [
    {
     "data": {
      "application/vnd.plotly.v1+json": {
       "config": {
        "plotlyServerURL": "https://plot.ly"
       },
       "data": [
        {
         "hoverlabel": {
          "namelength": 0
         },
         "hovertemplate": "x=%{x}<br>y=%{y}",
         "legendgroup": "",
         "marker": {
          "color": "#636efa",
          "symbol": "circle"
         },
         "mode": "markers",
         "name": "",
         "showlegend": false,
         "type": "scatter",
         "x": [
          -0.5324688283583511,
          1.4396920550994932,
          1.086928330793837,
          0.5206622368500461,
          1.1704467784621062,
          -0.2566939093970758,
          1.8847649631571244,
          0.2975665263974093,
          -0.684706168654136,
          -0.694872786894559,
          1.423448673721807,
          -0.991312436416761,
          0.027491414475795017,
          0.4519653877157319,
          0.6395392896697838,
          -0.26213646999247814,
          0.2991617125592108,
          -0.24441166219572988,
          -1.1033693623217977,
          -0.9663901100341031,
          0.4240179996631394,
          -0.759033891603099,
          0.8105185139699426,
          -1.2691445264284162,
          -0.04539420097229095,
          0.9866001468782145,
          -1.3483630613805317,
          0.6154976063338237,
          1.6738257969721282,
          -0.1211469702481606,
          1.3187591940634096,
          0.3402045114761818,
          -0.26136236117855766,
          0.19807513392299125,
          -0.5339341970615422,
          0.44020714675519707,
          0.25525993071357134,
          0.49070238919656206,
          1.3008019393438752,
          -0.6166475965345413,
          -0.34999599847478025,
          -0.3759841379835372,
          0.25799916033545456,
          -0.5978003981003739,
          1.141208660226024,
          0.3750500855542256,
          -1.0477748064879622,
          -0.36382904924217657,
          -0.8483092716163202,
          0.7840898484388918,
          2.432870368387271,
          0.05626035788361628,
          -0.7736804919276633,
          0.8327865838445065,
          -1.3148336609423812,
          -0.5915315582130755,
          1.0605948754826884,
          -1.0542965233391481,
          0.32844980381136996,
          1.9832397386154867,
          -0.18934576916285284,
          -0.7684985182270875,
          0.04639682368555171,
          0.16239665387731414,
          -0.8890716042364297,
          0.8534966747134112,
          0.5841387471529531,
          -1.150377960302338,
          -0.32282620594868267,
          0.7828463299861568,
          -0.35396741812808497,
          1.7455034166884922,
          0.6323647422171446,
          -0.3200408044254178,
          -0.20487159241313346,
          1.6959941912554097,
          -0.8828155011299859,
          -1.3985325842139376,
          -2.2593724690985995,
          1.3022798496932413,
          0.5190285998505331,
          -0.29084304421940504,
          -0.006056506372722705,
          -0.18773672127454,
          0.10822574492602344,
          0.08637756865156854,
          1.6585161567698588,
          1.1896461510358443,
          -0.8579423429658964,
          -0.635791864549767,
          -1.2498703015661414,
          -0.3582651294389231,
          0.36990803917798937,
          -0.5051879504143858,
          0.5433439738774699,
          -1.5097997156908456,
          -2.3808204191909588,
          1.503988208929452,
          -1.4379163384669338,
          1.3559883518374867
         ],
         "xaxis": "x",
         "y": [
          -0.8048145922109802,
          0.4554589698841469,
          0.844577654291843,
          -1.1614088557206097,
          1.0260960233117935,
          -0.17578225617484872,
          1.6598425992346555,
          -1.152295661019373,
          -0.00870687677890854,
          -0.9440290038708046,
          -0.24548275430343405,
          0.07120539106506985,
          -1.1963311451175707,
          -0.6703459795795526,
          0.9547833857149617,
          -0.18137327008977794,
          1.4812643471916733,
          -3.8919832817516777,
          -0.4069541183952804,
          0.9048462286256628,
          -1.5182873123957663,
          0.7989048070530823,
          -0.013554174546004166,
          1.410200660221747,
          -0.46402592833943057,
          0.4104153698110007,
          -0.8958860126209375,
          -0.309084948976723,
          -0.8257414619779269,
          1.0634505725048016,
          -1.263860245189633,
          -0.07115012824327364,
          -0.2700367923196036,
          0.02543940379861641,
          1.484515028924565,
          0.5005408314439628,
          -1.733853644893958,
          0.9081854895645532,
          -0.513484737269108,
          -1.5829944566899894,
          0.5381089510563665,
          -1.6465382909051864,
          0.4815380594436504,
          -0.5449211085432131,
          -1.8332751663351348,
          -0.8647617790860818,
          0.3695439507194569,
          -1.636903634452346,
          -1.4405665736900082,
          0.45681037403955227,
          -1.7015831105034998,
          0.3083937421174898,
          -0.00668089828917712,
          -0.9880586264356452,
          1.4362208829160872,
          0.6844267432653808,
          0.42442559510032685,
          0.09864529085642497,
          0.5762464508552266,
          -1.4703002553692053,
          0.7936803043708716,
          0.017502045780641524,
          -0.034021714033760427,
          0.671643525230622,
          1.08379727638958,
          0.6380404216858686,
          0.14969115830290028,
          0.3316591404683238,
          -2.1488470844379783,
          0.7063110428575182,
          -0.5959609739074926,
          -0.6790166720777786,
          1.5090092009231384,
          0.12453203891959945,
          -0.44394985060034586,
          0.5271265637917874,
          0.11346559786758488,
          0.20532977963946303,
          0.9134520331425771,
          0.17318783934701681,
          0.14533662261589167,
          -0.6323520541009467,
          -1.9443646511915502,
          -2.447348454405045,
          -0.6242733874149871,
          1.1163561941044173,
          0.013637893655326899,
          -0.6017219924798682,
          -0.6659538861450633,
          0.09471910022889819,
          -1.1157674554910249,
          0.9280460100583799,
          -0.8615443768303916,
          0.24809551091761847,
          -2.3553238422448626,
          -0.4059902718903922,
          0.6333952035813133,
          -1.165087322741685,
          0.18621126011807115,
          -1.1657789571018575
         ],
         "yaxis": "y"
        }
       ],
       "layout": {
        "height": 600,
        "legend": {
         "tracegroupgap": 0
        },
        "template": {
         "data": {
          "bar": [
           {
            "error_x": {
             "color": "#2a3f5f"
            },
            "error_y": {
             "color": "#2a3f5f"
            },
            "marker": {
             "line": {
              "color": "#E5ECF6",
              "width": 0.5
             }
            },
            "type": "bar"
           }
          ],
          "barpolar": [
           {
            "marker": {
             "line": {
              "color": "#E5ECF6",
              "width": 0.5
             }
            },
            "type": "barpolar"
           }
          ],
          "carpet": [
           {
            "aaxis": {
             "endlinecolor": "#2a3f5f",
             "gridcolor": "white",
             "linecolor": "white",
             "minorgridcolor": "white",
             "startlinecolor": "#2a3f5f"
            },
            "baxis": {
             "endlinecolor": "#2a3f5f",
             "gridcolor": "white",
             "linecolor": "white",
             "minorgridcolor": "white",
             "startlinecolor": "#2a3f5f"
            },
            "type": "carpet"
           }
          ],
          "choropleth": [
           {
            "colorbar": {
             "outlinewidth": 0,
             "ticks": ""
            },
            "type": "choropleth"
           }
          ],
          "contour": [
           {
            "colorbar": {
             "outlinewidth": 0,
             "ticks": ""
            },
            "colorscale": [
             [
              0,
              "#0d0887"
             ],
             [
              0.1111111111111111,
              "#46039f"
             ],
             [
              0.2222222222222222,
              "#7201a8"
             ],
             [
              0.3333333333333333,
              "#9c179e"
             ],
             [
              0.4444444444444444,
              "#bd3786"
             ],
             [
              0.5555555555555556,
              "#d8576b"
             ],
             [
              0.6666666666666666,
              "#ed7953"
             ],
             [
              0.7777777777777778,
              "#fb9f3a"
             ],
             [
              0.8888888888888888,
              "#fdca26"
             ],
             [
              1,
              "#f0f921"
             ]
            ],
            "type": "contour"
           }
          ],
          "contourcarpet": [
           {
            "colorbar": {
             "outlinewidth": 0,
             "ticks": ""
            },
            "type": "contourcarpet"
           }
          ],
          "heatmap": [
           {
            "colorbar": {
             "outlinewidth": 0,
             "ticks": ""
            },
            "colorscale": [
             [
              0,
              "#0d0887"
             ],
             [
              0.1111111111111111,
              "#46039f"
             ],
             [
              0.2222222222222222,
              "#7201a8"
             ],
             [
              0.3333333333333333,
              "#9c179e"
             ],
             [
              0.4444444444444444,
              "#bd3786"
             ],
             [
              0.5555555555555556,
              "#d8576b"
             ],
             [
              0.6666666666666666,
              "#ed7953"
             ],
             [
              0.7777777777777778,
              "#fb9f3a"
             ],
             [
              0.8888888888888888,
              "#fdca26"
             ],
             [
              1,
              "#f0f921"
             ]
            ],
            "type": "heatmap"
           }
          ],
          "heatmapgl": [
           {
            "colorbar": {
             "outlinewidth": 0,
             "ticks": ""
            },
            "colorscale": [
             [
              0,
              "#0d0887"
             ],
             [
              0.1111111111111111,
              "#46039f"
             ],
             [
              0.2222222222222222,
              "#7201a8"
             ],
             [
              0.3333333333333333,
              "#9c179e"
             ],
             [
              0.4444444444444444,
              "#bd3786"
             ],
             [
              0.5555555555555556,
              "#d8576b"
             ],
             [
              0.6666666666666666,
              "#ed7953"
             ],
             [
              0.7777777777777778,
              "#fb9f3a"
             ],
             [
              0.8888888888888888,
              "#fdca26"
             ],
             [
              1,
              "#f0f921"
             ]
            ],
            "type": "heatmapgl"
           }
          ],
          "histogram": [
           {
            "marker": {
             "colorbar": {
              "outlinewidth": 0,
              "ticks": ""
             }
            },
            "type": "histogram"
           }
          ],
          "histogram2d": [
           {
            "colorbar": {
             "outlinewidth": 0,
             "ticks": ""
            },
            "colorscale": [
             [
              0,
              "#0d0887"
             ],
             [
              0.1111111111111111,
              "#46039f"
             ],
             [
              0.2222222222222222,
              "#7201a8"
             ],
             [
              0.3333333333333333,
              "#9c179e"
             ],
             [
              0.4444444444444444,
              "#bd3786"
             ],
             [
              0.5555555555555556,
              "#d8576b"
             ],
             [
              0.6666666666666666,
              "#ed7953"
             ],
             [
              0.7777777777777778,
              "#fb9f3a"
             ],
             [
              0.8888888888888888,
              "#fdca26"
             ],
             [
              1,
              "#f0f921"
             ]
            ],
            "type": "histogram2d"
           }
          ],
          "histogram2dcontour": [
           {
            "colorbar": {
             "outlinewidth": 0,
             "ticks": ""
            },
            "colorscale": [
             [
              0,
              "#0d0887"
             ],
             [
              0.1111111111111111,
              "#46039f"
             ],
             [
              0.2222222222222222,
              "#7201a8"
             ],
             [
              0.3333333333333333,
              "#9c179e"
             ],
             [
              0.4444444444444444,
              "#bd3786"
             ],
             [
              0.5555555555555556,
              "#d8576b"
             ],
             [
              0.6666666666666666,
              "#ed7953"
             ],
             [
              0.7777777777777778,
              "#fb9f3a"
             ],
             [
              0.8888888888888888,
              "#fdca26"
             ],
             [
              1,
              "#f0f921"
             ]
            ],
            "type": "histogram2dcontour"
           }
          ],
          "mesh3d": [
           {
            "colorbar": {
             "outlinewidth": 0,
             "ticks": ""
            },
            "type": "mesh3d"
           }
          ],
          "parcoords": [
           {
            "line": {
             "colorbar": {
              "outlinewidth": 0,
              "ticks": ""
             }
            },
            "type": "parcoords"
           }
          ],
          "scatter": [
           {
            "marker": {
             "colorbar": {
              "outlinewidth": 0,
              "ticks": ""
             }
            },
            "type": "scatter"
           }
          ],
          "scatter3d": [
           {
            "line": {
             "colorbar": {
              "outlinewidth": 0,
              "ticks": ""
             }
            },
            "marker": {
             "colorbar": {
              "outlinewidth": 0,
              "ticks": ""
             }
            },
            "type": "scatter3d"
           }
          ],
          "scattercarpet": [
           {
            "marker": {
             "colorbar": {
              "outlinewidth": 0,
              "ticks": ""
             }
            },
            "type": "scattercarpet"
           }
          ],
          "scattergeo": [
           {
            "marker": {
             "colorbar": {
              "outlinewidth": 0,
              "ticks": ""
             }
            },
            "type": "scattergeo"
           }
          ],
          "scattergl": [
           {
            "marker": {
             "colorbar": {
              "outlinewidth": 0,
              "ticks": ""
             }
            },
            "type": "scattergl"
           }
          ],
          "scattermapbox": [
           {
            "marker": {
             "colorbar": {
              "outlinewidth": 0,
              "ticks": ""
             }
            },
            "type": "scattermapbox"
           }
          ],
          "scatterpolar": [
           {
            "marker": {
             "colorbar": {
              "outlinewidth": 0,
              "ticks": ""
             }
            },
            "type": "scatterpolar"
           }
          ],
          "scatterpolargl": [
           {
            "marker": {
             "colorbar": {
              "outlinewidth": 0,
              "ticks": ""
             }
            },
            "type": "scatterpolargl"
           }
          ],
          "scatterternary": [
           {
            "marker": {
             "colorbar": {
              "outlinewidth": 0,
              "ticks": ""
             }
            },
            "type": "scatterternary"
           }
          ],
          "surface": [
           {
            "colorbar": {
             "outlinewidth": 0,
             "ticks": ""
            },
            "colorscale": [
             [
              0,
              "#0d0887"
             ],
             [
              0.1111111111111111,
              "#46039f"
             ],
             [
              0.2222222222222222,
              "#7201a8"
             ],
             [
              0.3333333333333333,
              "#9c179e"
             ],
             [
              0.4444444444444444,
              "#bd3786"
             ],
             [
              0.5555555555555556,
              "#d8576b"
             ],
             [
              0.6666666666666666,
              "#ed7953"
             ],
             [
              0.7777777777777778,
              "#fb9f3a"
             ],
             [
              0.8888888888888888,
              "#fdca26"
             ],
             [
              1,
              "#f0f921"
             ]
            ],
            "type": "surface"
           }
          ],
          "table": [
           {
            "cells": {
             "fill": {
              "color": "#EBF0F8"
             },
             "line": {
              "color": "white"
             }
            },
            "header": {
             "fill": {
              "color": "#C8D4E3"
             },
             "line": {
              "color": "white"
             }
            },
            "type": "table"
           }
          ]
         },
         "layout": {
          "annotationdefaults": {
           "arrowcolor": "#2a3f5f",
           "arrowhead": 0,
           "arrowwidth": 1
          },
          "colorscale": {
           "diverging": [
            [
             0,
             "#8e0152"
            ],
            [
             0.1,
             "#c51b7d"
            ],
            [
             0.2,
             "#de77ae"
            ],
            [
             0.3,
             "#f1b6da"
            ],
            [
             0.4,
             "#fde0ef"
            ],
            [
             0.5,
             "#f7f7f7"
            ],
            [
             0.6,
             "#e6f5d0"
            ],
            [
             0.7,
             "#b8e186"
            ],
            [
             0.8,
             "#7fbc41"
            ],
            [
             0.9,
             "#4d9221"
            ],
            [
             1,
             "#276419"
            ]
           ],
           "sequential": [
            [
             0,
             "#0d0887"
            ],
            [
             0.1111111111111111,
             "#46039f"
            ],
            [
             0.2222222222222222,
             "#7201a8"
            ],
            [
             0.3333333333333333,
             "#9c179e"
            ],
            [
             0.4444444444444444,
             "#bd3786"
            ],
            [
             0.5555555555555556,
             "#d8576b"
            ],
            [
             0.6666666666666666,
             "#ed7953"
            ],
            [
             0.7777777777777778,
             "#fb9f3a"
            ],
            [
             0.8888888888888888,
             "#fdca26"
            ],
            [
             1,
             "#f0f921"
            ]
           ],
           "sequentialminus": [
            [
             0,
             "#0d0887"
            ],
            [
             0.1111111111111111,
             "#46039f"
            ],
            [
             0.2222222222222222,
             "#7201a8"
            ],
            [
             0.3333333333333333,
             "#9c179e"
            ],
            [
             0.4444444444444444,
             "#bd3786"
            ],
            [
             0.5555555555555556,
             "#d8576b"
            ],
            [
             0.6666666666666666,
             "#ed7953"
            ],
            [
             0.7777777777777778,
             "#fb9f3a"
            ],
            [
             0.8888888888888888,
             "#fdca26"
            ],
            [
             1,
             "#f0f921"
            ]
           ]
          },
          "colorway": [
           "#636efa",
           "#EF553B",
           "#00cc96",
           "#ab63fa",
           "#FFA15A",
           "#19d3f3",
           "#FF6692",
           "#B6E880",
           "#FF97FF",
           "#FECB52"
          ],
          "font": {
           "color": "#2a3f5f"
          },
          "geo": {
           "bgcolor": "white",
           "lakecolor": "white",
           "landcolor": "#E5ECF6",
           "showlakes": true,
           "showland": true,
           "subunitcolor": "white"
          },
          "hoverlabel": {
           "align": "left"
          },
          "hovermode": "closest",
          "mapbox": {
           "style": "light"
          },
          "paper_bgcolor": "white",
          "plot_bgcolor": "#E5ECF6",
          "polar": {
           "angularaxis": {
            "gridcolor": "white",
            "linecolor": "white",
            "ticks": ""
           },
           "bgcolor": "#E5ECF6",
           "radialaxis": {
            "gridcolor": "white",
            "linecolor": "white",
            "ticks": ""
           }
          },
          "scene": {
           "xaxis": {
            "backgroundcolor": "#E5ECF6",
            "gridcolor": "white",
            "gridwidth": 2,
            "linecolor": "white",
            "showbackground": true,
            "ticks": "",
            "zerolinecolor": "white"
           },
           "yaxis": {
            "backgroundcolor": "#E5ECF6",
            "gridcolor": "white",
            "gridwidth": 2,
            "linecolor": "white",
            "showbackground": true,
            "ticks": "",
            "zerolinecolor": "white"
           },
           "zaxis": {
            "backgroundcolor": "#E5ECF6",
            "gridcolor": "white",
            "gridwidth": 2,
            "linecolor": "white",
            "showbackground": true,
            "ticks": "",
            "zerolinecolor": "white"
           }
          },
          "shapedefaults": {
           "line": {
            "color": "#2a3f5f"
           }
          },
          "ternary": {
           "aaxis": {
            "gridcolor": "white",
            "linecolor": "white",
            "ticks": ""
           },
           "baxis": {
            "gridcolor": "white",
            "linecolor": "white",
            "ticks": ""
           },
           "bgcolor": "#E5ECF6",
           "caxis": {
            "gridcolor": "white",
            "linecolor": "white",
            "ticks": ""
           }
          },
          "title": {
           "x": 0.05
          },
          "xaxis": {
           "automargin": true,
           "gridcolor": "white",
           "linecolor": "white",
           "ticks": "",
           "zerolinecolor": "white",
           "zerolinewidth": 2
          },
          "yaxis": {
           "automargin": true,
           "gridcolor": "white",
           "linecolor": "white",
           "ticks": "",
           "zerolinecolor": "white",
           "zerolinewidth": 2
          }
         }
        },
        "title": {
         "text": "Random Scatter Plot Example"
        },
        "xaxis": {
         "anchor": "y",
         "domain": [
          0,
          0.98
         ],
         "title": {
          "text": "x"
         }
        },
        "yaxis": {
         "anchor": "x",
         "domain": [
          0,
          1
         ],
         "title": {
          "text": "y"
         }
        }
       }
      },
      "text/html": [
       "<div>\n",
       "        \n",
       "        \n",
       "            <div id=\"af4ca4de-62eb-4ca8-ac59-3e238974f3bc\" class=\"plotly-graph-div\" style=\"height:600px; width:100%;\"></div>\n",
       "            <script type=\"text/javascript\">\n",
       "                require([\"plotly\"], function(Plotly) {\n",
       "                    window.PLOTLYENV=window.PLOTLYENV || {};\n",
       "                    \n",
       "                if (document.getElementById(\"af4ca4de-62eb-4ca8-ac59-3e238974f3bc\")) {\n",
       "                    Plotly.newPlot(\n",
       "                        'af4ca4de-62eb-4ca8-ac59-3e238974f3bc',\n",
       "                        [{\"hoverlabel\": {\"namelength\": 0}, \"hovertemplate\": \"x=%{x}<br>y=%{y}\", \"legendgroup\": \"\", \"marker\": {\"color\": \"#636efa\", \"symbol\": \"circle\"}, \"mode\": \"markers\", \"name\": \"\", \"showlegend\": false, \"type\": \"scatter\", \"x\": [-0.5324688283583511, 1.4396920550994932, 1.086928330793837, 0.5206622368500461, 1.1704467784621062, -0.2566939093970758, 1.8847649631571244, 0.2975665263974093, -0.684706168654136, -0.694872786894559, 1.423448673721807, -0.991312436416761, 0.027491414475795017, 0.4519653877157319, 0.6395392896697838, -0.26213646999247814, 0.2991617125592108, -0.24441166219572988, -1.1033693623217977, -0.9663901100341031, 0.4240179996631394, -0.759033891603099, 0.8105185139699426, -1.2691445264284162, -0.04539420097229095, 0.9866001468782145, -1.3483630613805317, 0.6154976063338237, 1.6738257969721282, -0.1211469702481606, 1.3187591940634096, 0.3402045114761818, -0.26136236117855766, 0.19807513392299125, -0.5339341970615422, 0.44020714675519707, 0.25525993071357134, 0.49070238919656206, 1.3008019393438752, -0.6166475965345413, -0.34999599847478025, -0.3759841379835372, 0.25799916033545456, -0.5978003981003739, 1.141208660226024, 0.3750500855542256, -1.0477748064879622, -0.36382904924217657, -0.8483092716163202, 0.7840898484388918, 2.432870368387271, 0.05626035788361628, -0.7736804919276633, 0.8327865838445065, -1.3148336609423812, -0.5915315582130755, 1.0605948754826884, -1.0542965233391481, 0.32844980381136996, 1.9832397386154867, -0.18934576916285284, -0.7684985182270875, 0.04639682368555171, 0.16239665387731414, -0.8890716042364297, 0.8534966747134112, 0.5841387471529531, -1.150377960302338, -0.32282620594868267, 0.7828463299861568, -0.35396741812808497, 1.7455034166884922, 0.6323647422171446, -0.3200408044254178, -0.20487159241313346, 1.6959941912554097, -0.8828155011299859, -1.3985325842139376, -2.2593724690985995, 1.3022798496932413, 0.5190285998505331, -0.29084304421940504, -0.006056506372722705, -0.18773672127454, 0.10822574492602344, 0.08637756865156854, 1.6585161567698588, 1.1896461510358443, -0.8579423429658964, -0.635791864549767, -1.2498703015661414, -0.3582651294389231, 0.36990803917798937, -0.5051879504143858, 0.5433439738774699, -1.5097997156908456, -2.3808204191909588, 1.503988208929452, -1.4379163384669338, 1.3559883518374867], \"xaxis\": \"x\", \"y\": [-0.8048145922109802, 0.4554589698841469, 0.844577654291843, -1.1614088557206097, 1.0260960233117935, -0.17578225617484872, 1.6598425992346555, -1.152295661019373, -0.00870687677890854, -0.9440290038708046, -0.24548275430343405, 0.07120539106506985, -1.1963311451175707, -0.6703459795795526, 0.9547833857149617, -0.18137327008977794, 1.4812643471916733, -3.8919832817516777, -0.4069541183952804, 0.9048462286256628, -1.5182873123957663, 0.7989048070530823, -0.013554174546004166, 1.410200660221747, -0.46402592833943057, 0.4104153698110007, -0.8958860126209375, -0.309084948976723, -0.8257414619779269, 1.0634505725048016, -1.263860245189633, -0.07115012824327364, -0.2700367923196036, 0.02543940379861641, 1.484515028924565, 0.5005408314439628, -1.733853644893958, 0.9081854895645532, -0.513484737269108, -1.5829944566899894, 0.5381089510563665, -1.6465382909051864, 0.4815380594436504, -0.5449211085432131, -1.8332751663351348, -0.8647617790860818, 0.3695439507194569, -1.636903634452346, -1.4405665736900082, 0.45681037403955227, -1.7015831105034998, 0.3083937421174898, -0.00668089828917712, -0.9880586264356452, 1.4362208829160872, 0.6844267432653808, 0.42442559510032685, 0.09864529085642497, 0.5762464508552266, -1.4703002553692053, 0.7936803043708716, 0.017502045780641524, -0.034021714033760427, 0.671643525230622, 1.08379727638958, 0.6380404216858686, 0.14969115830290028, 0.3316591404683238, -2.1488470844379783, 0.7063110428575182, -0.5959609739074926, -0.6790166720777786, 1.5090092009231384, 0.12453203891959945, -0.44394985060034586, 0.5271265637917874, 0.11346559786758488, 0.20532977963946303, 0.9134520331425771, 0.17318783934701681, 0.14533662261589167, -0.6323520541009467, -1.9443646511915502, -2.447348454405045, -0.6242733874149871, 1.1163561941044173, 0.013637893655326899, -0.6017219924798682, -0.6659538861450633, 0.09471910022889819, -1.1157674554910249, 0.9280460100583799, -0.8615443768303916, 0.24809551091761847, -2.3553238422448626, -0.4059902718903922, 0.6333952035813133, -1.165087322741685, 0.18621126011807115, -1.1657789571018575], \"yaxis\": \"y\"}],\n",
       "                        {\"height\": 600, \"legend\": {\"tracegroupgap\": 0}, \"template\": {\"data\": {\"bar\": [{\"error_x\": {\"color\": \"#2a3f5f\"}, \"error_y\": {\"color\": \"#2a3f5f\"}, \"marker\": {\"line\": {\"color\": \"#E5ECF6\", \"width\": 0.5}}, \"type\": \"bar\"}], \"barpolar\": [{\"marker\": {\"line\": {\"color\": \"#E5ECF6\", \"width\": 0.5}}, \"type\": \"barpolar\"}], \"carpet\": [{\"aaxis\": {\"endlinecolor\": \"#2a3f5f\", \"gridcolor\": \"white\", \"linecolor\": \"white\", \"minorgridcolor\": \"white\", \"startlinecolor\": \"#2a3f5f\"}, \"baxis\": {\"endlinecolor\": \"#2a3f5f\", \"gridcolor\": \"white\", \"linecolor\": \"white\", \"minorgridcolor\": \"white\", \"startlinecolor\": \"#2a3f5f\"}, \"type\": \"carpet\"}], \"choropleth\": [{\"colorbar\": {\"outlinewidth\": 0, \"ticks\": \"\"}, \"type\": \"choropleth\"}], \"contour\": [{\"colorbar\": {\"outlinewidth\": 0, \"ticks\": \"\"}, \"colorscale\": [[0.0, \"#0d0887\"], [0.1111111111111111, \"#46039f\"], [0.2222222222222222, \"#7201a8\"], [0.3333333333333333, \"#9c179e\"], [0.4444444444444444, \"#bd3786\"], [0.5555555555555556, \"#d8576b\"], [0.6666666666666666, \"#ed7953\"], [0.7777777777777778, \"#fb9f3a\"], [0.8888888888888888, \"#fdca26\"], [1.0, \"#f0f921\"]], \"type\": \"contour\"}], \"contourcarpet\": [{\"colorbar\": {\"outlinewidth\": 0, \"ticks\": \"\"}, \"type\": \"contourcarpet\"}], \"heatmap\": [{\"colorbar\": {\"outlinewidth\": 0, \"ticks\": \"\"}, \"colorscale\": [[0.0, \"#0d0887\"], [0.1111111111111111, \"#46039f\"], [0.2222222222222222, \"#7201a8\"], [0.3333333333333333, \"#9c179e\"], [0.4444444444444444, \"#bd3786\"], [0.5555555555555556, \"#d8576b\"], [0.6666666666666666, \"#ed7953\"], [0.7777777777777778, \"#fb9f3a\"], [0.8888888888888888, \"#fdca26\"], [1.0, \"#f0f921\"]], \"type\": \"heatmap\"}], \"heatmapgl\": [{\"colorbar\": {\"outlinewidth\": 0, \"ticks\": \"\"}, \"colorscale\": [[0.0, \"#0d0887\"], [0.1111111111111111, \"#46039f\"], [0.2222222222222222, \"#7201a8\"], [0.3333333333333333, \"#9c179e\"], [0.4444444444444444, \"#bd3786\"], [0.5555555555555556, \"#d8576b\"], [0.6666666666666666, \"#ed7953\"], [0.7777777777777778, \"#fb9f3a\"], [0.8888888888888888, \"#fdca26\"], [1.0, \"#f0f921\"]], \"type\": \"heatmapgl\"}], \"histogram\": [{\"marker\": {\"colorbar\": {\"outlinewidth\": 0, \"ticks\": \"\"}}, \"type\": \"histogram\"}], \"histogram2d\": [{\"colorbar\": {\"outlinewidth\": 0, \"ticks\": \"\"}, \"colorscale\": [[0.0, \"#0d0887\"], [0.1111111111111111, \"#46039f\"], [0.2222222222222222, \"#7201a8\"], [0.3333333333333333, \"#9c179e\"], [0.4444444444444444, \"#bd3786\"], [0.5555555555555556, \"#d8576b\"], [0.6666666666666666, \"#ed7953\"], [0.7777777777777778, \"#fb9f3a\"], [0.8888888888888888, \"#fdca26\"], [1.0, \"#f0f921\"]], \"type\": \"histogram2d\"}], \"histogram2dcontour\": [{\"colorbar\": {\"outlinewidth\": 0, \"ticks\": \"\"}, \"colorscale\": [[0.0, \"#0d0887\"], [0.1111111111111111, \"#46039f\"], [0.2222222222222222, \"#7201a8\"], [0.3333333333333333, \"#9c179e\"], [0.4444444444444444, \"#bd3786\"], [0.5555555555555556, \"#d8576b\"], [0.6666666666666666, \"#ed7953\"], [0.7777777777777778, \"#fb9f3a\"], [0.8888888888888888, \"#fdca26\"], [1.0, \"#f0f921\"]], \"type\": \"histogram2dcontour\"}], \"mesh3d\": [{\"colorbar\": {\"outlinewidth\": 0, \"ticks\": \"\"}, \"type\": \"mesh3d\"}], \"parcoords\": [{\"line\": {\"colorbar\": {\"outlinewidth\": 0, \"ticks\": \"\"}}, \"type\": \"parcoords\"}], \"scatter\": [{\"marker\": {\"colorbar\": {\"outlinewidth\": 0, \"ticks\": \"\"}}, \"type\": \"scatter\"}], \"scatter3d\": [{\"line\": {\"colorbar\": {\"outlinewidth\": 0, \"ticks\": \"\"}}, \"marker\": {\"colorbar\": {\"outlinewidth\": 0, \"ticks\": \"\"}}, \"type\": \"scatter3d\"}], \"scattercarpet\": [{\"marker\": {\"colorbar\": {\"outlinewidth\": 0, \"ticks\": \"\"}}, \"type\": \"scattercarpet\"}], \"scattergeo\": [{\"marker\": {\"colorbar\": {\"outlinewidth\": 0, \"ticks\": \"\"}}, \"type\": \"scattergeo\"}], \"scattergl\": [{\"marker\": {\"colorbar\": {\"outlinewidth\": 0, \"ticks\": \"\"}}, \"type\": \"scattergl\"}], \"scattermapbox\": [{\"marker\": {\"colorbar\": {\"outlinewidth\": 0, \"ticks\": \"\"}}, \"type\": \"scattermapbox\"}], \"scatterpolar\": [{\"marker\": {\"colorbar\": {\"outlinewidth\": 0, \"ticks\": \"\"}}, \"type\": \"scatterpolar\"}], \"scatterpolargl\": [{\"marker\": {\"colorbar\": {\"outlinewidth\": 0, \"ticks\": \"\"}}, \"type\": \"scatterpolargl\"}], \"scatterternary\": [{\"marker\": {\"colorbar\": {\"outlinewidth\": 0, \"ticks\": \"\"}}, \"type\": \"scatterternary\"}], \"surface\": [{\"colorbar\": {\"outlinewidth\": 0, \"ticks\": \"\"}, \"colorscale\": [[0.0, \"#0d0887\"], [0.1111111111111111, \"#46039f\"], [0.2222222222222222, \"#7201a8\"], [0.3333333333333333, \"#9c179e\"], [0.4444444444444444, \"#bd3786\"], [0.5555555555555556, \"#d8576b\"], [0.6666666666666666, \"#ed7953\"], [0.7777777777777778, \"#fb9f3a\"], [0.8888888888888888, \"#fdca26\"], [1.0, \"#f0f921\"]], \"type\": \"surface\"}], \"table\": [{\"cells\": {\"fill\": {\"color\": \"#EBF0F8\"}, \"line\": {\"color\": \"white\"}}, \"header\": {\"fill\": {\"color\": \"#C8D4E3\"}, \"line\": {\"color\": \"white\"}}, \"type\": \"table\"}]}, \"layout\": {\"annotationdefaults\": {\"arrowcolor\": \"#2a3f5f\", \"arrowhead\": 0, \"arrowwidth\": 1}, \"colorscale\": {\"diverging\": [[0, \"#8e0152\"], [0.1, \"#c51b7d\"], [0.2, \"#de77ae\"], [0.3, \"#f1b6da\"], [0.4, \"#fde0ef\"], [0.5, \"#f7f7f7\"], [0.6, \"#e6f5d0\"], [0.7, \"#b8e186\"], [0.8, \"#7fbc41\"], [0.9, \"#4d9221\"], [1, \"#276419\"]], \"sequential\": [[0.0, \"#0d0887\"], [0.1111111111111111, \"#46039f\"], [0.2222222222222222, \"#7201a8\"], [0.3333333333333333, \"#9c179e\"], [0.4444444444444444, \"#bd3786\"], [0.5555555555555556, \"#d8576b\"], [0.6666666666666666, \"#ed7953\"], [0.7777777777777778, \"#fb9f3a\"], [0.8888888888888888, \"#fdca26\"], [1.0, \"#f0f921\"]], \"sequentialminus\": [[0.0, \"#0d0887\"], [0.1111111111111111, \"#46039f\"], [0.2222222222222222, \"#7201a8\"], [0.3333333333333333, \"#9c179e\"], [0.4444444444444444, \"#bd3786\"], [0.5555555555555556, \"#d8576b\"], [0.6666666666666666, \"#ed7953\"], [0.7777777777777778, \"#fb9f3a\"], [0.8888888888888888, \"#fdca26\"], [1.0, \"#f0f921\"]]}, \"colorway\": [\"#636efa\", \"#EF553B\", \"#00cc96\", \"#ab63fa\", \"#FFA15A\", \"#19d3f3\", \"#FF6692\", \"#B6E880\", \"#FF97FF\", \"#FECB52\"], \"font\": {\"color\": \"#2a3f5f\"}, \"geo\": {\"bgcolor\": \"white\", \"lakecolor\": \"white\", \"landcolor\": \"#E5ECF6\", \"showlakes\": true, \"showland\": true, \"subunitcolor\": \"white\"}, \"hoverlabel\": {\"align\": \"left\"}, \"hovermode\": \"closest\", \"mapbox\": {\"style\": \"light\"}, \"paper_bgcolor\": \"white\", \"plot_bgcolor\": \"#E5ECF6\", \"polar\": {\"angularaxis\": {\"gridcolor\": \"white\", \"linecolor\": \"white\", \"ticks\": \"\"}, \"bgcolor\": \"#E5ECF6\", \"radialaxis\": {\"gridcolor\": \"white\", \"linecolor\": \"white\", \"ticks\": \"\"}}, \"scene\": {\"xaxis\": {\"backgroundcolor\": \"#E5ECF6\", \"gridcolor\": \"white\", \"gridwidth\": 2, \"linecolor\": \"white\", \"showbackground\": true, \"ticks\": \"\", \"zerolinecolor\": \"white\"}, \"yaxis\": {\"backgroundcolor\": \"#E5ECF6\", \"gridcolor\": \"white\", \"gridwidth\": 2, \"linecolor\": \"white\", \"showbackground\": true, \"ticks\": \"\", \"zerolinecolor\": \"white\"}, \"zaxis\": {\"backgroundcolor\": \"#E5ECF6\", \"gridcolor\": \"white\", \"gridwidth\": 2, \"linecolor\": \"white\", \"showbackground\": true, \"ticks\": \"\", \"zerolinecolor\": \"white\"}}, \"shapedefaults\": {\"line\": {\"color\": \"#2a3f5f\"}}, \"ternary\": {\"aaxis\": {\"gridcolor\": \"white\", \"linecolor\": \"white\", \"ticks\": \"\"}, \"baxis\": {\"gridcolor\": \"white\", \"linecolor\": \"white\", \"ticks\": \"\"}, \"bgcolor\": \"#E5ECF6\", \"caxis\": {\"gridcolor\": \"white\", \"linecolor\": \"white\", \"ticks\": \"\"}}, \"title\": {\"x\": 0.05}, \"xaxis\": {\"automargin\": true, \"gridcolor\": \"white\", \"linecolor\": \"white\", \"ticks\": \"\", \"zerolinecolor\": \"white\", \"zerolinewidth\": 2}, \"yaxis\": {\"automargin\": true, \"gridcolor\": \"white\", \"linecolor\": \"white\", \"ticks\": \"\", \"zerolinecolor\": \"white\", \"zerolinewidth\": 2}}}, \"title\": {\"text\": \"Random Scatter Plot Example\"}, \"xaxis\": {\"anchor\": \"y\", \"domain\": [0.0, 0.98], \"title\": {\"text\": \"x\"}}, \"yaxis\": {\"anchor\": \"x\", \"domain\": [0.0, 1.0], \"title\": {\"text\": \"y\"}}},\n",
       "                        {\"responsive\": true}\n",
       "                    ).then(function(){\n",
       "                            \n",
       "var gd = document.getElementById('af4ca4de-62eb-4ca8-ac59-3e238974f3bc');\n",
       "var x = new MutationObserver(function (mutations, observer) {{\n",
       "        var display = window.getComputedStyle(gd).display;\n",
       "        if (!display || display === 'none') {{\n",
       "            console.log([gd, 'removed!']);\n",
       "            Plotly.purge(gd);\n",
       "            observer.disconnect();\n",
       "        }}\n",
       "}});\n",
       "\n",
       "// Listen for the removal of the full notebook cells\n",
       "var notebookContainer = gd.closest('#notebook-container');\n",
       "if (notebookContainer) {{\n",
       "    x.observe(notebookContainer, {childList: true});\n",
       "}}\n",
       "\n",
       "// Listen for the clearing of the current output cell\n",
       "var outputEl = gd.closest('.output');\n",
       "if (outputEl) {{\n",
       "    x.observe(outputEl, {childList: true});\n",
       "}}\n",
       "\n",
       "                        })\n",
       "                };\n",
       "                });\n",
       "            </script>\n",
       "        </div>"
      ]
     },
     "metadata": {},
     "output_type": "display_data"
    }
   ],
   "source": [
    "# example plotly plot\n",
    "import plotly.express as px\n",
    "import numpy as np\n",
    "import pandas as pd\n",
    "\n",
    "data = pd.DataFrame(np.random.randn(100, 2), columns=list('xy'))\n",
    "px.scatter(data, x='x', y='y', title='Random Scatter Plot Example').show()"
   ]
  },
  {
   "cell_type": "code",
   "execution_count": 23,
   "metadata": {
    "ExecuteTime": {
     "end_time": "2019-08-26T12:52:23.603960Z",
     "start_time": "2019-08-26T12:52:23.222875Z"
    }
   },
   "outputs": [
    {
     "data": {
      "application/vnd.plotly.v1+json": {
       "config": {
        "plotlyServerURL": "https://plot.ly"
       },
       "data": [
        {
         "hoverlabel": {
          "namelength": 0
         },
         "hovertemplate": "x=%{x}<br>y=%{y}<br>z=%{marker.color}",
         "legendgroup": "",
         "marker": {
          "color": [
           0.2723457638526291,
           0.9842330852153462,
           0.24235067650199416,
           1.6820710925706557,
           0.1443507551503127,
           -0.0809116532222271,
           0.2249223639224689,
           1.4498621874167825,
           -0.6759992918752274,
           0.24915621697624557,
           1.6689314280252412,
           -1.0625178274818308,
           1.2238225595933656,
           1.1223113672952845,
           -0.3152440960451779,
           -0.0807631999027002,
           -1.1821026346324626,
           3.647571619555948,
           -0.6964152439265173,
           -1.871236338659766,
           1.9423053120589058,
           -1.5579386986561814,
           0.8240726885159467,
           -2.6793451866501634,
           0.4186317273671396,
           0.5761847770672138,
           -0.45247704875959427,
           0.9245825553105467,
           2.499567258950055,
           -1.1845975427529623,
           2.5826194392530426,
           0.41135463971945546,
           0.008674431141045935,
           0.17263573012437483,
           -2.018449225986107,
           -0.06033368468876571,
           1.9891135756075293,
           -0.4174831003679912,
           1.8142866766129833,
           0.9663468601554481,
           -0.8881049495311467,
           1.2705541529216493,
           -0.22353889910819585,
           -0.052879289557160813,
           2.974483826561159,
           1.2398118646403073,
           -1.417318757207419,
           1.2730745852101695,
           0.592257302073688,
           0.3272794743993396,
           4.134453478890771,
           -0.25213338423387355,
           -0.7669995936384861,
           1.8208452102801518,
           -2.7510545438584684,
           -1.2759583014784561,
           0.6361692803823615,
           -1.1529418141955732,
           -0.24779664704385668,
           3.453539993984692,
           -0.9830260735337244,
           -0.786000564007729,
           0.08041853771931214,
           -0.5092468713533078,
           -1.9728688806260097,
           0.21545625302754257,
           0.43444758885005286,
           -1.4820371007706619,
           1.8260208784892957,
           0.07653528712863855,
           0.24199355577940762,
           2.424520088766271,
           -0.8766444587059938,
           -0.4445728433450173,
           0.2390782581872124,
           1.1688676274636225,
           -0.9962810989975708,
           -1.6038623638534006,
           -3.1728245022411765,
           1.1290920103462245,
           0.3736919772346414,
           0.3415090098815417,
           1.9383081448188275,
           2.2596117331305052,
           0.7324991323410105,
           -1.029978625452849,
           1.6448782631145318,
           1.7913681435157125,
           -0.1919884568208331,
           -0.7305109647786652,
           -0.13410284607511658,
           -1.286311139497303,
           1.231452416008381,
           -0.7532834613320043,
           2.8986678161223325,
           -1.1038094438004533,
           -3.014215622772272,
           2.6690755316711368,
           -1.624127598585005,
           2.521767308939344
          ],
          "coloraxis": "coloraxis",
          "symbol": "circle"
         },
         "mode": "markers",
         "name": "",
         "showlegend": false,
         "type": "scatter",
         "x": [
          -0.5324688283583511,
          1.4396920550994932,
          1.086928330793837,
          0.5206622368500461,
          1.1704467784621062,
          -0.2566939093970758,
          1.8847649631571244,
          0.2975665263974093,
          -0.684706168654136,
          -0.694872786894559,
          1.423448673721807,
          -0.991312436416761,
          0.027491414475795017,
          0.4519653877157319,
          0.6395392896697838,
          -0.26213646999247814,
          0.2991617125592108,
          -0.24441166219572988,
          -1.1033693623217977,
          -0.9663901100341031,
          0.4240179996631394,
          -0.759033891603099,
          0.8105185139699426,
          -1.2691445264284162,
          -0.04539420097229095,
          0.9866001468782145,
          -1.3483630613805317,
          0.6154976063338237,
          1.6738257969721282,
          -0.1211469702481606,
          1.3187591940634096,
          0.3402045114761818,
          -0.26136236117855766,
          0.19807513392299125,
          -0.5339341970615422,
          0.44020714675519707,
          0.25525993071357134,
          0.49070238919656206,
          1.3008019393438752,
          -0.6166475965345413,
          -0.34999599847478025,
          -0.3759841379835372,
          0.25799916033545456,
          -0.5978003981003739,
          1.141208660226024,
          0.3750500855542256,
          -1.0477748064879622,
          -0.36382904924217657,
          -0.8483092716163202,
          0.7840898484388918,
          2.432870368387271,
          0.05626035788361628,
          -0.7736804919276633,
          0.8327865838445065,
          -1.3148336609423812,
          -0.5915315582130755,
          1.0605948754826884,
          -1.0542965233391481,
          0.32844980381136996,
          1.9832397386154867,
          -0.18934576916285284,
          -0.7684985182270875,
          0.04639682368555171,
          0.16239665387731414,
          -0.8890716042364297,
          0.8534966747134112,
          0.5841387471529531,
          -1.150377960302338,
          -0.32282620594868267,
          0.7828463299861568,
          -0.35396741812808497,
          1.7455034166884922,
          0.6323647422171446,
          -0.3200408044254178,
          -0.20487159241313346,
          1.6959941912554097,
          -0.8828155011299859,
          -1.3985325842139376,
          -2.2593724690985995,
          1.3022798496932413,
          0.5190285998505331,
          -0.29084304421940504,
          -0.006056506372722705,
          -0.18773672127454,
          0.10822574492602344,
          0.08637756865156854,
          1.6585161567698588,
          1.1896461510358443,
          -0.8579423429658964,
          -0.635791864549767,
          -1.2498703015661414,
          -0.3582651294389231,
          0.36990803917798937,
          -0.5051879504143858,
          0.5433439738774699,
          -1.5097997156908456,
          -2.3808204191909588,
          1.503988208929452,
          -1.4379163384669338,
          1.3559883518374867
         ],
         "xaxis": "x",
         "y": [
          -0.8048145922109802,
          0.4554589698841469,
          0.844577654291843,
          -1.1614088557206097,
          1.0260960233117935,
          -0.17578225617484872,
          1.6598425992346555,
          -1.152295661019373,
          -0.00870687677890854,
          -0.9440290038708046,
          -0.24548275430343405,
          0.07120539106506985,
          -1.1963311451175707,
          -0.6703459795795526,
          0.9547833857149617,
          -0.18137327008977794,
          1.4812643471916733,
          -3.8919832817516777,
          -0.4069541183952804,
          0.9048462286256628,
          -1.5182873123957663,
          0.7989048070530823,
          -0.013554174546004166,
          1.410200660221747,
          -0.46402592833943057,
          0.4104153698110007,
          -0.8958860126209375,
          -0.309084948976723,
          -0.8257414619779269,
          1.0634505725048016,
          -1.263860245189633,
          -0.07115012824327364,
          -0.2700367923196036,
          0.02543940379861641,
          1.484515028924565,
          0.5005408314439628,
          -1.733853644893958,
          0.9081854895645532,
          -0.513484737269108,
          -1.5829944566899894,
          0.5381089510563665,
          -1.6465382909051864,
          0.4815380594436504,
          -0.5449211085432131,
          -1.8332751663351348,
          -0.8647617790860818,
          0.3695439507194569,
          -1.636903634452346,
          -1.4405665736900082,
          0.45681037403955227,
          -1.7015831105034998,
          0.3083937421174898,
          -0.00668089828917712,
          -0.9880586264356452,
          1.4362208829160872,
          0.6844267432653808,
          0.42442559510032685,
          0.09864529085642497,
          0.5762464508552266,
          -1.4703002553692053,
          0.7936803043708716,
          0.017502045780641524,
          -0.034021714033760427,
          0.671643525230622,
          1.08379727638958,
          0.6380404216858686,
          0.14969115830290028,
          0.3316591404683238,
          -2.1488470844379783,
          0.7063110428575182,
          -0.5959609739074926,
          -0.6790166720777786,
          1.5090092009231384,
          0.12453203891959945,
          -0.44394985060034586,
          0.5271265637917874,
          0.11346559786758488,
          0.20532977963946303,
          0.9134520331425771,
          0.17318783934701681,
          0.14533662261589167,
          -0.6323520541009467,
          -1.9443646511915502,
          -2.447348454405045,
          -0.6242733874149871,
          1.1163561941044173,
          0.013637893655326899,
          -0.6017219924798682,
          -0.6659538861450633,
          0.09471910022889819,
          -1.1157674554910249,
          0.9280460100583799,
          -0.8615443768303916,
          0.24809551091761847,
          -2.3553238422448626,
          -0.4059902718903922,
          0.6333952035813133,
          -1.165087322741685,
          0.18621126011807115,
          -1.1657789571018575
         ],
         "yaxis": "y"
        }
       ],
       "layout": {
        "coloraxis": {
         "colorbar": {
          "title": {
           "text": "z"
          }
         },
         "colorscale": [
          [
           0,
           "#0d0887"
          ],
          [
           0.1111111111111111,
           "#46039f"
          ],
          [
           0.2222222222222222,
           "#7201a8"
          ],
          [
           0.3333333333333333,
           "#9c179e"
          ],
          [
           0.4444444444444444,
           "#bd3786"
          ],
          [
           0.5555555555555556,
           "#d8576b"
          ],
          [
           0.6666666666666666,
           "#ed7953"
          ],
          [
           0.7777777777777778,
           "#fb9f3a"
          ],
          [
           0.8888888888888888,
           "#fdca26"
          ],
          [
           1,
           "#f0f921"
          ]
         ]
        },
        "height": 600,
        "legend": {
         "tracegroupgap": 0
        },
        "template": {
         "data": {
          "bar": [
           {
            "error_x": {
             "color": "#2a3f5f"
            },
            "error_y": {
             "color": "#2a3f5f"
            },
            "marker": {
             "line": {
              "color": "#E5ECF6",
              "width": 0.5
             }
            },
            "type": "bar"
           }
          ],
          "barpolar": [
           {
            "marker": {
             "line": {
              "color": "#E5ECF6",
              "width": 0.5
             }
            },
            "type": "barpolar"
           }
          ],
          "carpet": [
           {
            "aaxis": {
             "endlinecolor": "#2a3f5f",
             "gridcolor": "white",
             "linecolor": "white",
             "minorgridcolor": "white",
             "startlinecolor": "#2a3f5f"
            },
            "baxis": {
             "endlinecolor": "#2a3f5f",
             "gridcolor": "white",
             "linecolor": "white",
             "minorgridcolor": "white",
             "startlinecolor": "#2a3f5f"
            },
            "type": "carpet"
           }
          ],
          "choropleth": [
           {
            "colorbar": {
             "outlinewidth": 0,
             "ticks": ""
            },
            "type": "choropleth"
           }
          ],
          "contour": [
           {
            "colorbar": {
             "outlinewidth": 0,
             "ticks": ""
            },
            "colorscale": [
             [
              0,
              "#0d0887"
             ],
             [
              0.1111111111111111,
              "#46039f"
             ],
             [
              0.2222222222222222,
              "#7201a8"
             ],
             [
              0.3333333333333333,
              "#9c179e"
             ],
             [
              0.4444444444444444,
              "#bd3786"
             ],
             [
              0.5555555555555556,
              "#d8576b"
             ],
             [
              0.6666666666666666,
              "#ed7953"
             ],
             [
              0.7777777777777778,
              "#fb9f3a"
             ],
             [
              0.8888888888888888,
              "#fdca26"
             ],
             [
              1,
              "#f0f921"
             ]
            ],
            "type": "contour"
           }
          ],
          "contourcarpet": [
           {
            "colorbar": {
             "outlinewidth": 0,
             "ticks": ""
            },
            "type": "contourcarpet"
           }
          ],
          "heatmap": [
           {
            "colorbar": {
             "outlinewidth": 0,
             "ticks": ""
            },
            "colorscale": [
             [
              0,
              "#0d0887"
             ],
             [
              0.1111111111111111,
              "#46039f"
             ],
             [
              0.2222222222222222,
              "#7201a8"
             ],
             [
              0.3333333333333333,
              "#9c179e"
             ],
             [
              0.4444444444444444,
              "#bd3786"
             ],
             [
              0.5555555555555556,
              "#d8576b"
             ],
             [
              0.6666666666666666,
              "#ed7953"
             ],
             [
              0.7777777777777778,
              "#fb9f3a"
             ],
             [
              0.8888888888888888,
              "#fdca26"
             ],
             [
              1,
              "#f0f921"
             ]
            ],
            "type": "heatmap"
           }
          ],
          "heatmapgl": [
           {
            "colorbar": {
             "outlinewidth": 0,
             "ticks": ""
            },
            "colorscale": [
             [
              0,
              "#0d0887"
             ],
             [
              0.1111111111111111,
              "#46039f"
             ],
             [
              0.2222222222222222,
              "#7201a8"
             ],
             [
              0.3333333333333333,
              "#9c179e"
             ],
             [
              0.4444444444444444,
              "#bd3786"
             ],
             [
              0.5555555555555556,
              "#d8576b"
             ],
             [
              0.6666666666666666,
              "#ed7953"
             ],
             [
              0.7777777777777778,
              "#fb9f3a"
             ],
             [
              0.8888888888888888,
              "#fdca26"
             ],
             [
              1,
              "#f0f921"
             ]
            ],
            "type": "heatmapgl"
           }
          ],
          "histogram": [
           {
            "marker": {
             "colorbar": {
              "outlinewidth": 0,
              "ticks": ""
             }
            },
            "type": "histogram"
           }
          ],
          "histogram2d": [
           {
            "colorbar": {
             "outlinewidth": 0,
             "ticks": ""
            },
            "colorscale": [
             [
              0,
              "#0d0887"
             ],
             [
              0.1111111111111111,
              "#46039f"
             ],
             [
              0.2222222222222222,
              "#7201a8"
             ],
             [
              0.3333333333333333,
              "#9c179e"
             ],
             [
              0.4444444444444444,
              "#bd3786"
             ],
             [
              0.5555555555555556,
              "#d8576b"
             ],
             [
              0.6666666666666666,
              "#ed7953"
             ],
             [
              0.7777777777777778,
              "#fb9f3a"
             ],
             [
              0.8888888888888888,
              "#fdca26"
             ],
             [
              1,
              "#f0f921"
             ]
            ],
            "type": "histogram2d"
           }
          ],
          "histogram2dcontour": [
           {
            "colorbar": {
             "outlinewidth": 0,
             "ticks": ""
            },
            "colorscale": [
             [
              0,
              "#0d0887"
             ],
             [
              0.1111111111111111,
              "#46039f"
             ],
             [
              0.2222222222222222,
              "#7201a8"
             ],
             [
              0.3333333333333333,
              "#9c179e"
             ],
             [
              0.4444444444444444,
              "#bd3786"
             ],
             [
              0.5555555555555556,
              "#d8576b"
             ],
             [
              0.6666666666666666,
              "#ed7953"
             ],
             [
              0.7777777777777778,
              "#fb9f3a"
             ],
             [
              0.8888888888888888,
              "#fdca26"
             ],
             [
              1,
              "#f0f921"
             ]
            ],
            "type": "histogram2dcontour"
           }
          ],
          "mesh3d": [
           {
            "colorbar": {
             "outlinewidth": 0,
             "ticks": ""
            },
            "type": "mesh3d"
           }
          ],
          "parcoords": [
           {
            "line": {
             "colorbar": {
              "outlinewidth": 0,
              "ticks": ""
             }
            },
            "type": "parcoords"
           }
          ],
          "scatter": [
           {
            "marker": {
             "colorbar": {
              "outlinewidth": 0,
              "ticks": ""
             }
            },
            "type": "scatter"
           }
          ],
          "scatter3d": [
           {
            "line": {
             "colorbar": {
              "outlinewidth": 0,
              "ticks": ""
             }
            },
            "marker": {
             "colorbar": {
              "outlinewidth": 0,
              "ticks": ""
             }
            },
            "type": "scatter3d"
           }
          ],
          "scattercarpet": [
           {
            "marker": {
             "colorbar": {
              "outlinewidth": 0,
              "ticks": ""
             }
            },
            "type": "scattercarpet"
           }
          ],
          "scattergeo": [
           {
            "marker": {
             "colorbar": {
              "outlinewidth": 0,
              "ticks": ""
             }
            },
            "type": "scattergeo"
           }
          ],
          "scattergl": [
           {
            "marker": {
             "colorbar": {
              "outlinewidth": 0,
              "ticks": ""
             }
            },
            "type": "scattergl"
           }
          ],
          "scattermapbox": [
           {
            "marker": {
             "colorbar": {
              "outlinewidth": 0,
              "ticks": ""
             }
            },
            "type": "scattermapbox"
           }
          ],
          "scatterpolar": [
           {
            "marker": {
             "colorbar": {
              "outlinewidth": 0,
              "ticks": ""
             }
            },
            "type": "scatterpolar"
           }
          ],
          "scatterpolargl": [
           {
            "marker": {
             "colorbar": {
              "outlinewidth": 0,
              "ticks": ""
             }
            },
            "type": "scatterpolargl"
           }
          ],
          "scatterternary": [
           {
            "marker": {
             "colorbar": {
              "outlinewidth": 0,
              "ticks": ""
             }
            },
            "type": "scatterternary"
           }
          ],
          "surface": [
           {
            "colorbar": {
             "outlinewidth": 0,
             "ticks": ""
            },
            "colorscale": [
             [
              0,
              "#0d0887"
             ],
             [
              0.1111111111111111,
              "#46039f"
             ],
             [
              0.2222222222222222,
              "#7201a8"
             ],
             [
              0.3333333333333333,
              "#9c179e"
             ],
             [
              0.4444444444444444,
              "#bd3786"
             ],
             [
              0.5555555555555556,
              "#d8576b"
             ],
             [
              0.6666666666666666,
              "#ed7953"
             ],
             [
              0.7777777777777778,
              "#fb9f3a"
             ],
             [
              0.8888888888888888,
              "#fdca26"
             ],
             [
              1,
              "#f0f921"
             ]
            ],
            "type": "surface"
           }
          ],
          "table": [
           {
            "cells": {
             "fill": {
              "color": "#EBF0F8"
             },
             "line": {
              "color": "white"
             }
            },
            "header": {
             "fill": {
              "color": "#C8D4E3"
             },
             "line": {
              "color": "white"
             }
            },
            "type": "table"
           }
          ]
         },
         "layout": {
          "annotationdefaults": {
           "arrowcolor": "#2a3f5f",
           "arrowhead": 0,
           "arrowwidth": 1
          },
          "colorscale": {
           "diverging": [
            [
             0,
             "#8e0152"
            ],
            [
             0.1,
             "#c51b7d"
            ],
            [
             0.2,
             "#de77ae"
            ],
            [
             0.3,
             "#f1b6da"
            ],
            [
             0.4,
             "#fde0ef"
            ],
            [
             0.5,
             "#f7f7f7"
            ],
            [
             0.6,
             "#e6f5d0"
            ],
            [
             0.7,
             "#b8e186"
            ],
            [
             0.8,
             "#7fbc41"
            ],
            [
             0.9,
             "#4d9221"
            ],
            [
             1,
             "#276419"
            ]
           ],
           "sequential": [
            [
             0,
             "#0d0887"
            ],
            [
             0.1111111111111111,
             "#46039f"
            ],
            [
             0.2222222222222222,
             "#7201a8"
            ],
            [
             0.3333333333333333,
             "#9c179e"
            ],
            [
             0.4444444444444444,
             "#bd3786"
            ],
            [
             0.5555555555555556,
             "#d8576b"
            ],
            [
             0.6666666666666666,
             "#ed7953"
            ],
            [
             0.7777777777777778,
             "#fb9f3a"
            ],
            [
             0.8888888888888888,
             "#fdca26"
            ],
            [
             1,
             "#f0f921"
            ]
           ],
           "sequentialminus": [
            [
             0,
             "#0d0887"
            ],
            [
             0.1111111111111111,
             "#46039f"
            ],
            [
             0.2222222222222222,
             "#7201a8"
            ],
            [
             0.3333333333333333,
             "#9c179e"
            ],
            [
             0.4444444444444444,
             "#bd3786"
            ],
            [
             0.5555555555555556,
             "#d8576b"
            ],
            [
             0.6666666666666666,
             "#ed7953"
            ],
            [
             0.7777777777777778,
             "#fb9f3a"
            ],
            [
             0.8888888888888888,
             "#fdca26"
            ],
            [
             1,
             "#f0f921"
            ]
           ]
          },
          "colorway": [
           "#636efa",
           "#EF553B",
           "#00cc96",
           "#ab63fa",
           "#FFA15A",
           "#19d3f3",
           "#FF6692",
           "#B6E880",
           "#FF97FF",
           "#FECB52"
          ],
          "font": {
           "color": "#2a3f5f"
          },
          "geo": {
           "bgcolor": "white",
           "lakecolor": "white",
           "landcolor": "#E5ECF6",
           "showlakes": true,
           "showland": true,
           "subunitcolor": "white"
          },
          "hoverlabel": {
           "align": "left"
          },
          "hovermode": "closest",
          "mapbox": {
           "style": "light"
          },
          "paper_bgcolor": "white",
          "plot_bgcolor": "#E5ECF6",
          "polar": {
           "angularaxis": {
            "gridcolor": "white",
            "linecolor": "white",
            "ticks": ""
           },
           "bgcolor": "#E5ECF6",
           "radialaxis": {
            "gridcolor": "white",
            "linecolor": "white",
            "ticks": ""
           }
          },
          "scene": {
           "xaxis": {
            "backgroundcolor": "#E5ECF6",
            "gridcolor": "white",
            "gridwidth": 2,
            "linecolor": "white",
            "showbackground": true,
            "ticks": "",
            "zerolinecolor": "white"
           },
           "yaxis": {
            "backgroundcolor": "#E5ECF6",
            "gridcolor": "white",
            "gridwidth": 2,
            "linecolor": "white",
            "showbackground": true,
            "ticks": "",
            "zerolinecolor": "white"
           },
           "zaxis": {
            "backgroundcolor": "#E5ECF6",
            "gridcolor": "white",
            "gridwidth": 2,
            "linecolor": "white",
            "showbackground": true,
            "ticks": "",
            "zerolinecolor": "white"
           }
          },
          "shapedefaults": {
           "line": {
            "color": "#2a3f5f"
           }
          },
          "ternary": {
           "aaxis": {
            "gridcolor": "white",
            "linecolor": "white",
            "ticks": ""
           },
           "baxis": {
            "gridcolor": "white",
            "linecolor": "white",
            "ticks": ""
           },
           "bgcolor": "#E5ECF6",
           "caxis": {
            "gridcolor": "white",
            "linecolor": "white",
            "ticks": ""
           }
          },
          "title": {
           "x": 0.05
          },
          "xaxis": {
           "automargin": true,
           "gridcolor": "white",
           "linecolor": "white",
           "ticks": "",
           "zerolinecolor": "white",
           "zerolinewidth": 2
          },
          "yaxis": {
           "automargin": true,
           "gridcolor": "white",
           "linecolor": "white",
           "ticks": "",
           "zerolinecolor": "white",
           "zerolinewidth": 2
          }
         }
        },
        "title": {
         "text": "Random Scatter Plot Example with Color"
        },
        "xaxis": {
         "anchor": "y",
         "domain": [
          0,
          0.98
         ],
         "title": {
          "text": "x"
         }
        },
        "yaxis": {
         "anchor": "x",
         "domain": [
          0,
          1
         ],
         "title": {
          "text": "y"
         }
        }
       }
      },
      "text/html": [
       "<div>\n",
       "        \n",
       "        \n",
       "            <div id=\"42d3785a-44ea-47f2-812e-abfdd5cba79c\" class=\"plotly-graph-div\" style=\"height:600px; width:100%;\"></div>\n",
       "            <script type=\"text/javascript\">\n",
       "                require([\"plotly\"], function(Plotly) {\n",
       "                    window.PLOTLYENV=window.PLOTLYENV || {};\n",
       "                    \n",
       "                if (document.getElementById(\"42d3785a-44ea-47f2-812e-abfdd5cba79c\")) {\n",
       "                    Plotly.newPlot(\n",
       "                        '42d3785a-44ea-47f2-812e-abfdd5cba79c',\n",
       "                        [{\"hoverlabel\": {\"namelength\": 0}, \"hovertemplate\": \"x=%{x}<br>y=%{y}<br>z=%{marker.color}\", \"legendgroup\": \"\", \"marker\": {\"color\": [0.2723457638526291, 0.9842330852153462, 0.24235067650199416, 1.6820710925706557, 0.1443507551503127, -0.0809116532222271, 0.2249223639224689, 1.4498621874167825, -0.6759992918752274, 0.24915621697624557, 1.6689314280252412, -1.0625178274818308, 1.2238225595933656, 1.1223113672952845, -0.3152440960451779, -0.0807631999027002, -1.1821026346324626, 3.647571619555948, -0.6964152439265173, -1.871236338659766, 1.9423053120589058, -1.5579386986561814, 0.8240726885159467, -2.6793451866501634, 0.4186317273671396, 0.5761847770672138, -0.45247704875959427, 0.9245825553105467, 2.499567258950055, -1.1845975427529623, 2.5826194392530426, 0.41135463971945546, 0.008674431141045935, 0.17263573012437483, -2.018449225986107, -0.06033368468876571, 1.9891135756075293, -0.4174831003679912, 1.8142866766129833, 0.9663468601554481, -0.8881049495311467, 1.2705541529216493, -0.22353889910819585, -0.052879289557160813, 2.974483826561159, 1.2398118646403073, -1.417318757207419, 1.2730745852101695, 0.592257302073688, 0.3272794743993396, 4.134453478890771, -0.25213338423387355, -0.7669995936384861, 1.8208452102801518, -2.7510545438584684, -1.2759583014784561, 0.6361692803823615, -1.1529418141955732, -0.24779664704385668, 3.453539993984692, -0.9830260735337244, -0.786000564007729, 0.08041853771931214, -0.5092468713533078, -1.9728688806260097, 0.21545625302754257, 0.43444758885005286, -1.4820371007706619, 1.8260208784892957, 0.07653528712863855, 0.24199355577940762, 2.424520088766271, -0.8766444587059938, -0.4445728433450173, 0.2390782581872124, 1.1688676274636225, -0.9962810989975708, -1.6038623638534006, -3.1728245022411765, 1.1290920103462245, 0.3736919772346414, 0.3415090098815417, 1.9383081448188275, 2.2596117331305052, 0.7324991323410105, -1.029978625452849, 1.6448782631145318, 1.7913681435157125, -0.1919884568208331, -0.7305109647786652, -0.13410284607511658, -1.286311139497303, 1.231452416008381, -0.7532834613320043, 2.8986678161223325, -1.1038094438004533, -3.014215622772272, 2.6690755316711368, -1.624127598585005, 2.521767308939344], \"coloraxis\": \"coloraxis\", \"symbol\": \"circle\"}, \"mode\": \"markers\", \"name\": \"\", \"showlegend\": false, \"type\": \"scatter\", \"x\": [-0.5324688283583511, 1.4396920550994932, 1.086928330793837, 0.5206622368500461, 1.1704467784621062, -0.2566939093970758, 1.8847649631571244, 0.2975665263974093, -0.684706168654136, -0.694872786894559, 1.423448673721807, -0.991312436416761, 0.027491414475795017, 0.4519653877157319, 0.6395392896697838, -0.26213646999247814, 0.2991617125592108, -0.24441166219572988, -1.1033693623217977, -0.9663901100341031, 0.4240179996631394, -0.759033891603099, 0.8105185139699426, -1.2691445264284162, -0.04539420097229095, 0.9866001468782145, -1.3483630613805317, 0.6154976063338237, 1.6738257969721282, -0.1211469702481606, 1.3187591940634096, 0.3402045114761818, -0.26136236117855766, 0.19807513392299125, -0.5339341970615422, 0.44020714675519707, 0.25525993071357134, 0.49070238919656206, 1.3008019393438752, -0.6166475965345413, -0.34999599847478025, -0.3759841379835372, 0.25799916033545456, -0.5978003981003739, 1.141208660226024, 0.3750500855542256, -1.0477748064879622, -0.36382904924217657, -0.8483092716163202, 0.7840898484388918, 2.432870368387271, 0.05626035788361628, -0.7736804919276633, 0.8327865838445065, -1.3148336609423812, -0.5915315582130755, 1.0605948754826884, -1.0542965233391481, 0.32844980381136996, 1.9832397386154867, -0.18934576916285284, -0.7684985182270875, 0.04639682368555171, 0.16239665387731414, -0.8890716042364297, 0.8534966747134112, 0.5841387471529531, -1.150377960302338, -0.32282620594868267, 0.7828463299861568, -0.35396741812808497, 1.7455034166884922, 0.6323647422171446, -0.3200408044254178, -0.20487159241313346, 1.6959941912554097, -0.8828155011299859, -1.3985325842139376, -2.2593724690985995, 1.3022798496932413, 0.5190285998505331, -0.29084304421940504, -0.006056506372722705, -0.18773672127454, 0.10822574492602344, 0.08637756865156854, 1.6585161567698588, 1.1896461510358443, -0.8579423429658964, -0.635791864549767, -1.2498703015661414, -0.3582651294389231, 0.36990803917798937, -0.5051879504143858, 0.5433439738774699, -1.5097997156908456, -2.3808204191909588, 1.503988208929452, -1.4379163384669338, 1.3559883518374867], \"xaxis\": \"x\", \"y\": [-0.8048145922109802, 0.4554589698841469, 0.844577654291843, -1.1614088557206097, 1.0260960233117935, -0.17578225617484872, 1.6598425992346555, -1.152295661019373, -0.00870687677890854, -0.9440290038708046, -0.24548275430343405, 0.07120539106506985, -1.1963311451175707, -0.6703459795795526, 0.9547833857149617, -0.18137327008977794, 1.4812643471916733, -3.8919832817516777, -0.4069541183952804, 0.9048462286256628, -1.5182873123957663, 0.7989048070530823, -0.013554174546004166, 1.410200660221747, -0.46402592833943057, 0.4104153698110007, -0.8958860126209375, -0.309084948976723, -0.8257414619779269, 1.0634505725048016, -1.263860245189633, -0.07115012824327364, -0.2700367923196036, 0.02543940379861641, 1.484515028924565, 0.5005408314439628, -1.733853644893958, 0.9081854895645532, -0.513484737269108, -1.5829944566899894, 0.5381089510563665, -1.6465382909051864, 0.4815380594436504, -0.5449211085432131, -1.8332751663351348, -0.8647617790860818, 0.3695439507194569, -1.636903634452346, -1.4405665736900082, 0.45681037403955227, -1.7015831105034998, 0.3083937421174898, -0.00668089828917712, -0.9880586264356452, 1.4362208829160872, 0.6844267432653808, 0.42442559510032685, 0.09864529085642497, 0.5762464508552266, -1.4703002553692053, 0.7936803043708716, 0.017502045780641524, -0.034021714033760427, 0.671643525230622, 1.08379727638958, 0.6380404216858686, 0.14969115830290028, 0.3316591404683238, -2.1488470844379783, 0.7063110428575182, -0.5959609739074926, -0.6790166720777786, 1.5090092009231384, 0.12453203891959945, -0.44394985060034586, 0.5271265637917874, 0.11346559786758488, 0.20532977963946303, 0.9134520331425771, 0.17318783934701681, 0.14533662261589167, -0.6323520541009467, -1.9443646511915502, -2.447348454405045, -0.6242733874149871, 1.1163561941044173, 0.013637893655326899, -0.6017219924798682, -0.6659538861450633, 0.09471910022889819, -1.1157674554910249, 0.9280460100583799, -0.8615443768303916, 0.24809551091761847, -2.3553238422448626, -0.4059902718903922, 0.6333952035813133, -1.165087322741685, 0.18621126011807115, -1.1657789571018575], \"yaxis\": \"y\"}],\n",
       "                        {\"coloraxis\": {\"colorbar\": {\"title\": {\"text\": \"z\"}}, \"colorscale\": [[0.0, \"#0d0887\"], [0.1111111111111111, \"#46039f\"], [0.2222222222222222, \"#7201a8\"], [0.3333333333333333, \"#9c179e\"], [0.4444444444444444, \"#bd3786\"], [0.5555555555555556, \"#d8576b\"], [0.6666666666666666, \"#ed7953\"], [0.7777777777777778, \"#fb9f3a\"], [0.8888888888888888, \"#fdca26\"], [1.0, \"#f0f921\"]]}, \"height\": 600, \"legend\": {\"tracegroupgap\": 0}, \"template\": {\"data\": {\"bar\": [{\"error_x\": {\"color\": \"#2a3f5f\"}, \"error_y\": {\"color\": \"#2a3f5f\"}, \"marker\": {\"line\": {\"color\": \"#E5ECF6\", \"width\": 0.5}}, \"type\": \"bar\"}], \"barpolar\": [{\"marker\": {\"line\": {\"color\": \"#E5ECF6\", \"width\": 0.5}}, \"type\": \"barpolar\"}], \"carpet\": [{\"aaxis\": {\"endlinecolor\": \"#2a3f5f\", \"gridcolor\": \"white\", \"linecolor\": \"white\", \"minorgridcolor\": \"white\", \"startlinecolor\": \"#2a3f5f\"}, \"baxis\": {\"endlinecolor\": \"#2a3f5f\", \"gridcolor\": \"white\", \"linecolor\": \"white\", \"minorgridcolor\": \"white\", \"startlinecolor\": \"#2a3f5f\"}, \"type\": \"carpet\"}], \"choropleth\": [{\"colorbar\": {\"outlinewidth\": 0, \"ticks\": \"\"}, \"type\": \"choropleth\"}], \"contour\": [{\"colorbar\": {\"outlinewidth\": 0, \"ticks\": \"\"}, \"colorscale\": [[0.0, \"#0d0887\"], [0.1111111111111111, \"#46039f\"], [0.2222222222222222, \"#7201a8\"], [0.3333333333333333, \"#9c179e\"], [0.4444444444444444, \"#bd3786\"], [0.5555555555555556, \"#d8576b\"], [0.6666666666666666, \"#ed7953\"], [0.7777777777777778, \"#fb9f3a\"], [0.8888888888888888, \"#fdca26\"], [1.0, \"#f0f921\"]], \"type\": \"contour\"}], \"contourcarpet\": [{\"colorbar\": {\"outlinewidth\": 0, \"ticks\": \"\"}, \"type\": \"contourcarpet\"}], \"heatmap\": [{\"colorbar\": {\"outlinewidth\": 0, \"ticks\": \"\"}, \"colorscale\": [[0.0, \"#0d0887\"], [0.1111111111111111, \"#46039f\"], [0.2222222222222222, \"#7201a8\"], [0.3333333333333333, \"#9c179e\"], [0.4444444444444444, \"#bd3786\"], [0.5555555555555556, \"#d8576b\"], [0.6666666666666666, \"#ed7953\"], [0.7777777777777778, \"#fb9f3a\"], [0.8888888888888888, \"#fdca26\"], [1.0, \"#f0f921\"]], \"type\": \"heatmap\"}], \"heatmapgl\": [{\"colorbar\": {\"outlinewidth\": 0, \"ticks\": \"\"}, \"colorscale\": [[0.0, \"#0d0887\"], [0.1111111111111111, \"#46039f\"], [0.2222222222222222, \"#7201a8\"], [0.3333333333333333, \"#9c179e\"], [0.4444444444444444, \"#bd3786\"], [0.5555555555555556, \"#d8576b\"], [0.6666666666666666, \"#ed7953\"], [0.7777777777777778, \"#fb9f3a\"], [0.8888888888888888, \"#fdca26\"], [1.0, \"#f0f921\"]], \"type\": \"heatmapgl\"}], \"histogram\": [{\"marker\": {\"colorbar\": {\"outlinewidth\": 0, \"ticks\": \"\"}}, \"type\": \"histogram\"}], \"histogram2d\": [{\"colorbar\": {\"outlinewidth\": 0, \"ticks\": \"\"}, \"colorscale\": [[0.0, \"#0d0887\"], [0.1111111111111111, \"#46039f\"], [0.2222222222222222, \"#7201a8\"], [0.3333333333333333, \"#9c179e\"], [0.4444444444444444, \"#bd3786\"], [0.5555555555555556, \"#d8576b\"], [0.6666666666666666, \"#ed7953\"], [0.7777777777777778, \"#fb9f3a\"], [0.8888888888888888, \"#fdca26\"], [1.0, \"#f0f921\"]], \"type\": \"histogram2d\"}], \"histogram2dcontour\": [{\"colorbar\": {\"outlinewidth\": 0, \"ticks\": \"\"}, \"colorscale\": [[0.0, \"#0d0887\"], [0.1111111111111111, \"#46039f\"], [0.2222222222222222, \"#7201a8\"], [0.3333333333333333, \"#9c179e\"], [0.4444444444444444, \"#bd3786\"], [0.5555555555555556, \"#d8576b\"], [0.6666666666666666, \"#ed7953\"], [0.7777777777777778, \"#fb9f3a\"], [0.8888888888888888, \"#fdca26\"], [1.0, \"#f0f921\"]], \"type\": \"histogram2dcontour\"}], \"mesh3d\": [{\"colorbar\": {\"outlinewidth\": 0, \"ticks\": \"\"}, \"type\": \"mesh3d\"}], \"parcoords\": [{\"line\": {\"colorbar\": {\"outlinewidth\": 0, \"ticks\": \"\"}}, \"type\": \"parcoords\"}], \"scatter\": [{\"marker\": {\"colorbar\": {\"outlinewidth\": 0, \"ticks\": \"\"}}, \"type\": \"scatter\"}], \"scatter3d\": [{\"line\": {\"colorbar\": {\"outlinewidth\": 0, \"ticks\": \"\"}}, \"marker\": {\"colorbar\": {\"outlinewidth\": 0, \"ticks\": \"\"}}, \"type\": \"scatter3d\"}], \"scattercarpet\": [{\"marker\": {\"colorbar\": {\"outlinewidth\": 0, \"ticks\": \"\"}}, \"type\": \"scattercarpet\"}], \"scattergeo\": [{\"marker\": {\"colorbar\": {\"outlinewidth\": 0, \"ticks\": \"\"}}, \"type\": \"scattergeo\"}], \"scattergl\": [{\"marker\": {\"colorbar\": {\"outlinewidth\": 0, \"ticks\": \"\"}}, \"type\": \"scattergl\"}], \"scattermapbox\": [{\"marker\": {\"colorbar\": {\"outlinewidth\": 0, \"ticks\": \"\"}}, \"type\": \"scattermapbox\"}], \"scatterpolar\": [{\"marker\": {\"colorbar\": {\"outlinewidth\": 0, \"ticks\": \"\"}}, \"type\": \"scatterpolar\"}], \"scatterpolargl\": [{\"marker\": {\"colorbar\": {\"outlinewidth\": 0, \"ticks\": \"\"}}, \"type\": \"scatterpolargl\"}], \"scatterternary\": [{\"marker\": {\"colorbar\": {\"outlinewidth\": 0, \"ticks\": \"\"}}, \"type\": \"scatterternary\"}], \"surface\": [{\"colorbar\": {\"outlinewidth\": 0, \"ticks\": \"\"}, \"colorscale\": [[0.0, \"#0d0887\"], [0.1111111111111111, \"#46039f\"], [0.2222222222222222, \"#7201a8\"], [0.3333333333333333, \"#9c179e\"], [0.4444444444444444, \"#bd3786\"], [0.5555555555555556, \"#d8576b\"], [0.6666666666666666, \"#ed7953\"], [0.7777777777777778, \"#fb9f3a\"], [0.8888888888888888, \"#fdca26\"], [1.0, \"#f0f921\"]], \"type\": \"surface\"}], \"table\": [{\"cells\": {\"fill\": {\"color\": \"#EBF0F8\"}, \"line\": {\"color\": \"white\"}}, \"header\": {\"fill\": {\"color\": \"#C8D4E3\"}, \"line\": {\"color\": \"white\"}}, \"type\": \"table\"}]}, \"layout\": {\"annotationdefaults\": {\"arrowcolor\": \"#2a3f5f\", \"arrowhead\": 0, \"arrowwidth\": 1}, \"colorscale\": {\"diverging\": [[0, \"#8e0152\"], [0.1, \"#c51b7d\"], [0.2, \"#de77ae\"], [0.3, \"#f1b6da\"], [0.4, \"#fde0ef\"], [0.5, \"#f7f7f7\"], [0.6, \"#e6f5d0\"], [0.7, \"#b8e186\"], [0.8, \"#7fbc41\"], [0.9, \"#4d9221\"], [1, \"#276419\"]], \"sequential\": [[0.0, \"#0d0887\"], [0.1111111111111111, \"#46039f\"], [0.2222222222222222, \"#7201a8\"], [0.3333333333333333, \"#9c179e\"], [0.4444444444444444, \"#bd3786\"], [0.5555555555555556, \"#d8576b\"], [0.6666666666666666, \"#ed7953\"], [0.7777777777777778, \"#fb9f3a\"], [0.8888888888888888, \"#fdca26\"], [1.0, \"#f0f921\"]], \"sequentialminus\": [[0.0, \"#0d0887\"], [0.1111111111111111, \"#46039f\"], [0.2222222222222222, \"#7201a8\"], [0.3333333333333333, \"#9c179e\"], [0.4444444444444444, \"#bd3786\"], [0.5555555555555556, \"#d8576b\"], [0.6666666666666666, \"#ed7953\"], [0.7777777777777778, \"#fb9f3a\"], [0.8888888888888888, \"#fdca26\"], [1.0, \"#f0f921\"]]}, \"colorway\": [\"#636efa\", \"#EF553B\", \"#00cc96\", \"#ab63fa\", \"#FFA15A\", \"#19d3f3\", \"#FF6692\", \"#B6E880\", \"#FF97FF\", \"#FECB52\"], \"font\": {\"color\": \"#2a3f5f\"}, \"geo\": {\"bgcolor\": \"white\", \"lakecolor\": \"white\", \"landcolor\": \"#E5ECF6\", \"showlakes\": true, \"showland\": true, \"subunitcolor\": \"white\"}, \"hoverlabel\": {\"align\": \"left\"}, \"hovermode\": \"closest\", \"mapbox\": {\"style\": \"light\"}, \"paper_bgcolor\": \"white\", \"plot_bgcolor\": \"#E5ECF6\", \"polar\": {\"angularaxis\": {\"gridcolor\": \"white\", \"linecolor\": \"white\", \"ticks\": \"\"}, \"bgcolor\": \"#E5ECF6\", \"radialaxis\": {\"gridcolor\": \"white\", \"linecolor\": \"white\", \"ticks\": \"\"}}, \"scene\": {\"xaxis\": {\"backgroundcolor\": \"#E5ECF6\", \"gridcolor\": \"white\", \"gridwidth\": 2, \"linecolor\": \"white\", \"showbackground\": true, \"ticks\": \"\", \"zerolinecolor\": \"white\"}, \"yaxis\": {\"backgroundcolor\": \"#E5ECF6\", \"gridcolor\": \"white\", \"gridwidth\": 2, \"linecolor\": \"white\", \"showbackground\": true, \"ticks\": \"\", \"zerolinecolor\": \"white\"}, \"zaxis\": {\"backgroundcolor\": \"#E5ECF6\", \"gridcolor\": \"white\", \"gridwidth\": 2, \"linecolor\": \"white\", \"showbackground\": true, \"ticks\": \"\", \"zerolinecolor\": \"white\"}}, \"shapedefaults\": {\"line\": {\"color\": \"#2a3f5f\"}}, \"ternary\": {\"aaxis\": {\"gridcolor\": \"white\", \"linecolor\": \"white\", \"ticks\": \"\"}, \"baxis\": {\"gridcolor\": \"white\", \"linecolor\": \"white\", \"ticks\": \"\"}, \"bgcolor\": \"#E5ECF6\", \"caxis\": {\"gridcolor\": \"white\", \"linecolor\": \"white\", \"ticks\": \"\"}}, \"title\": {\"x\": 0.05}, \"xaxis\": {\"automargin\": true, \"gridcolor\": \"white\", \"linecolor\": \"white\", \"ticks\": \"\", \"zerolinecolor\": \"white\", \"zerolinewidth\": 2}, \"yaxis\": {\"automargin\": true, \"gridcolor\": \"white\", \"linecolor\": \"white\", \"ticks\": \"\", \"zerolinecolor\": \"white\", \"zerolinewidth\": 2}}}, \"title\": {\"text\": \"Random Scatter Plot Example with Color\"}, \"xaxis\": {\"anchor\": \"y\", \"domain\": [0.0, 0.98], \"title\": {\"text\": \"x\"}}, \"yaxis\": {\"anchor\": \"x\", \"domain\": [0.0, 1.0], \"title\": {\"text\": \"y\"}}},\n",
       "                        {\"responsive\": true}\n",
       "                    ).then(function(){\n",
       "                            \n",
       "var gd = document.getElementById('42d3785a-44ea-47f2-812e-abfdd5cba79c');\n",
       "var x = new MutationObserver(function (mutations, observer) {{\n",
       "        var display = window.getComputedStyle(gd).display;\n",
       "        if (!display || display === 'none') {{\n",
       "            console.log([gd, 'removed!']);\n",
       "            Plotly.purge(gd);\n",
       "            observer.disconnect();\n",
       "        }}\n",
       "}});\n",
       "\n",
       "// Listen for the removal of the full notebook cells\n",
       "var notebookContainer = gd.closest('#notebook-container');\n",
       "if (notebookContainer) {{\n",
       "    x.observe(notebookContainer, {childList: true});\n",
       "}}\n",
       "\n",
       "// Listen for the clearing of the current output cell\n",
       "var outputEl = gd.closest('.output');\n",
       "if (outputEl) {{\n",
       "    x.observe(outputEl, {childList: true});\n",
       "}}\n",
       "\n",
       "                        })\n",
       "                };\n",
       "                });\n",
       "            </script>\n",
       "        </div>"
      ]
     },
     "metadata": {},
     "output_type": "display_data"
    }
   ],
   "source": [
    "data['z'] = data['x'] - data['y']\n",
    "px.scatter(data, x='x', y='y', color='z', title='Random Scatter Plot Example with Color').show()"
   ]
  },
  {
   "cell_type": "markdown",
   "metadata": {
    "cell_style": "center"
   },
   "source": [
    "You can check for some useful tips and tricks at (add more links as you see fit):\n",
    "* [this medium post](https://towardsdatascience.com/bringing-the-best-out-of-jupyter-notebooks-for-data-science-f0871519ca29)"
   ]
  }
 ],
 "metadata": {
  "celltoolbar": "Initialization Cell",
  "kernelspec": {
   "display_name": "Python 3",
   "language": "python",
   "name": "python3"
  },
  "language_info": {
   "codemirror_mode": {
    "name": "ipython",
    "version": 3
   },
   "file_extension": ".py",
   "mimetype": "text/x-python",
   "name": "python",
   "nbconvert_exporter": "python",
   "pygments_lexer": "ipython3",
   "version": "3.5.2"
  },
  "toc": {
   "base_numbering": 1,
   "nav_menu": {},
   "number_sections": true,
   "sideBar": true,
   "skip_h1_title": false,
   "title_cell": "Table of Contents",
   "title_sidebar": "Contents",
   "toc_cell": false,
   "toc_position": {},
   "toc_section_display": true,
   "toc_window_display": false
  },
  "varInspector": {
   "cols": {
    "lenName": 16,
    "lenType": 16,
    "lenVar": 40
   },
   "kernels_config": {
    "python": {
     "delete_cmd_postfix": "",
     "delete_cmd_prefix": "del ",
     "library": "var_list.py",
     "varRefreshCmd": "print(var_dic_list())"
    },
    "r": {
     "delete_cmd_postfix": ") ",
     "delete_cmd_prefix": "rm(",
     "library": "var_list.r",
     "varRefreshCmd": "cat(var_dic_list()) "
    }
   },
   "types_to_exclude": [
    "module",
    "function",
    "builtin_function_or_method",
    "instance",
    "_Feature"
   ],
   "window_display": false
  }
 },
 "nbformat": 4,
 "nbformat_minor": 2
}
